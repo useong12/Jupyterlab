{
 "cells": [
  {
   "cell_type": "code",
   "execution_count": 41,
   "id": "2c57ed57-c323-4ca4-ac2d-5f78a9f4b6fd",
   "metadata": {},
   "outputs": [
    {
     "ename": "NoSuchWindowException",
     "evalue": "Message: no such window: target window already closed\nfrom unknown error: web view not found\n  (Session info: MicrosoftEdge=131.0.2903.70)\nStacktrace:\n\t(No symbol) [0x00007FF6E5DF6B15]\n\tMicrosoft::Applications::Events::EventProperty::empty [0x00007FF6E611F4A4+1437348]\n\tsqlite3_dbdata_init [0x00007FF6E61C2DE6+643190]\n\t(No symbol) [0x00007FF6E5CB7657]\n\t(No symbol) [0x00007FF6E5D41CE5]\n\t(No symbol) [0x00007FF6E5D5670A]\n\t(No symbol) [0x00007FF6E5D3BE03]\n\t(No symbol) [0x00007FF6E5D12984]\n\t(No symbol) [0x00007FF6E5D11E30]\n\t(No symbol) [0x00007FF6E5D12571]\n\tMicrosoft::Applications::Events::EventProperty::empty [0x00007FF6E60CBB34+1094964]\n\t(No symbol) [0x00007FF6E5E332C8]\n\tMicrosoft::Applications::Events::EventProperty::empty [0x00007FF6E60CAF73+1091955]\n\tMicrosoft::Applications::Events::EventProperty::empty [0x00007FF6E60CAAD9+1090777]\n\tMicrosoft::Applications::Events::ILogConfiguration::operator* [0x00007FF6E5ED0CE1+461569]\n\tMicrosoft::Applications::Events::ILogConfiguration::operator* [0x00007FF6E5ECCA04+444452]\n\tMicrosoft::Applications::Events::ILogConfiguration::operator* [0x00007FF6E5ECCB49+444777]\n\tMicrosoft::Applications::Events::ILogConfiguration::operator* [0x00007FF6E5EC21C6+401382]\n\tBaseThreadInitThunk [0x00007FF9CCF8E8D7+23]\n\tRtlUserThreadStart [0x00007FF9CDF5FBCC+44]\n",
     "output_type": "error",
     "traceback": [
      "\u001b[1;31m------------------------------------------------------------------------\u001b[0m",
      "\u001b[1;31mNoSuchWindowException\u001b[0m                  Traceback (most recent call last)",
      "Cell \u001b[1;32mIn[41], line 43\u001b[0m\n\u001b[0;32m     41\u001b[0m code \u001b[38;5;241m=\u001b[39m \u001b[38;5;241m1\u001b[39m\n\u001b[0;32m     42\u001b[0m \u001b[38;5;28;01mfor\u001b[39;00m image \u001b[38;5;129;01min\u001b[39;00m images:\n\u001b[1;32m---> 43\u001b[0m     src \u001b[38;5;241m=\u001b[39m image\u001b[38;5;241m.\u001b[39mget_attribute(\u001b[38;5;124m\"\u001b[39m\u001b[38;5;124msrc\u001b[39m\u001b[38;5;124m\"\u001b[39m)\n\u001b[0;32m     44\u001b[0m     \u001b[38;5;28;01mif\u001b[39;00m \u001b[38;5;124m\"\u001b[39m\u001b[38;5;124mhttps\u001b[39m\u001b[38;5;124m\"\u001b[39m \u001b[38;5;129;01min\u001b[39;00m src:\n\u001b[0;32m     45\u001b[0m         res \u001b[38;5;241m=\u001b[39m requests\u001b[38;5;241m.\u001b[39mget(src) \n",
      "File \u001b[1;32m~\\anaconda3\\envs\\jupyterlab\\Lib\\site-packages\\selenium\\webdriver\\remote\\webelement.py:178\u001b[0m, in \u001b[0;36mWebElement.get_attribute\u001b[1;34m(self, name)\u001b[0m\n\u001b[0;32m    176\u001b[0m \u001b[38;5;28;01mif\u001b[39;00m getAttribute_js \u001b[38;5;129;01mis\u001b[39;00m \u001b[38;5;28;01mNone\u001b[39;00m:\n\u001b[0;32m    177\u001b[0m     _load_js()\n\u001b[1;32m--> 178\u001b[0m attribute_value \u001b[38;5;241m=\u001b[39m \u001b[38;5;28mself\u001b[39m\u001b[38;5;241m.\u001b[39mparent\u001b[38;5;241m.\u001b[39mexecute_script(\n\u001b[0;32m    179\u001b[0m     \u001b[38;5;124mf\u001b[39m\u001b[38;5;124m\"\u001b[39m\u001b[38;5;124m/* getAttribute */return (\u001b[39m\u001b[38;5;132;01m{\u001b[39;00mgetAttribute_js\u001b[38;5;132;01m}\u001b[39;00m\u001b[38;5;124m).apply(null, arguments);\u001b[39m\u001b[38;5;124m\"\u001b[39m, \u001b[38;5;28mself\u001b[39m, name\n\u001b[0;32m    180\u001b[0m )\n\u001b[0;32m    181\u001b[0m \u001b[38;5;28;01mreturn\u001b[39;00m attribute_value\n",
      "File \u001b[1;32m~\\anaconda3\\envs\\jupyterlab\\Lib\\site-packages\\selenium\\webdriver\\remote\\webdriver.py:444\u001b[0m, in \u001b[0;36mWebDriver.execute_script\u001b[1;34m(self, script, *args)\u001b[0m\n\u001b[0;32m    441\u001b[0m converted_args \u001b[38;5;241m=\u001b[39m \u001b[38;5;28mlist\u001b[39m(args)\n\u001b[0;32m    442\u001b[0m command \u001b[38;5;241m=\u001b[39m Command\u001b[38;5;241m.\u001b[39mW3C_EXECUTE_SCRIPT\n\u001b[1;32m--> 444\u001b[0m \u001b[38;5;28;01mreturn\u001b[39;00m \u001b[38;5;28mself\u001b[39m\u001b[38;5;241m.\u001b[39mexecute(command, {\u001b[38;5;124m\"\u001b[39m\u001b[38;5;124mscript\u001b[39m\u001b[38;5;124m\"\u001b[39m: script, \u001b[38;5;124m\"\u001b[39m\u001b[38;5;124margs\u001b[39m\u001b[38;5;124m\"\u001b[39m: converted_args})[\u001b[38;5;124m\"\u001b[39m\u001b[38;5;124mvalue\u001b[39m\u001b[38;5;124m\"\u001b[39m]\n",
      "File \u001b[1;32m~\\anaconda3\\envs\\jupyterlab\\Lib\\site-packages\\selenium\\webdriver\\remote\\webdriver.py:384\u001b[0m, in \u001b[0;36mWebDriver.execute\u001b[1;34m(self, driver_command, params)\u001b[0m\n\u001b[0;32m    382\u001b[0m response \u001b[38;5;241m=\u001b[39m \u001b[38;5;28mself\u001b[39m\u001b[38;5;241m.\u001b[39mcommand_executor\u001b[38;5;241m.\u001b[39mexecute(driver_command, params)\n\u001b[0;32m    383\u001b[0m \u001b[38;5;28;01mif\u001b[39;00m response:\n\u001b[1;32m--> 384\u001b[0m     \u001b[38;5;28mself\u001b[39m\u001b[38;5;241m.\u001b[39merror_handler\u001b[38;5;241m.\u001b[39mcheck_response(response)\n\u001b[0;32m    385\u001b[0m     response[\u001b[38;5;124m\"\u001b[39m\u001b[38;5;124mvalue\u001b[39m\u001b[38;5;124m\"\u001b[39m] \u001b[38;5;241m=\u001b[39m \u001b[38;5;28mself\u001b[39m\u001b[38;5;241m.\u001b[39m_unwrap_value(response\u001b[38;5;241m.\u001b[39mget(\u001b[38;5;124m\"\u001b[39m\u001b[38;5;124mvalue\u001b[39m\u001b[38;5;124m\"\u001b[39m, \u001b[38;5;28;01mNone\u001b[39;00m))\n\u001b[0;32m    386\u001b[0m     \u001b[38;5;28;01mreturn\u001b[39;00m response\n",
      "File \u001b[1;32m~\\anaconda3\\envs\\jupyterlab\\Lib\\site-packages\\selenium\\webdriver\\remote\\errorhandler.py:232\u001b[0m, in \u001b[0;36mErrorHandler.check_response\u001b[1;34m(self, response)\u001b[0m\n\u001b[0;32m    230\u001b[0m         alert_text \u001b[38;5;241m=\u001b[39m value[\u001b[38;5;124m\"\u001b[39m\u001b[38;5;124malert\u001b[39m\u001b[38;5;124m\"\u001b[39m]\u001b[38;5;241m.\u001b[39mget(\u001b[38;5;124m\"\u001b[39m\u001b[38;5;124mtext\u001b[39m\u001b[38;5;124m\"\u001b[39m)\n\u001b[0;32m    231\u001b[0m     \u001b[38;5;28;01mraise\u001b[39;00m exception_class(message, screen, stacktrace, alert_text)  \u001b[38;5;66;03m# type: ignore[call-arg]  # mypy is not smart enough here\u001b[39;00m\n\u001b[1;32m--> 232\u001b[0m \u001b[38;5;28;01mraise\u001b[39;00m exception_class(message, screen, stacktrace)\n",
      "\u001b[1;31mNoSuchWindowException\u001b[0m: Message: no such window: target window already closed\nfrom unknown error: web view not found\n  (Session info: MicrosoftEdge=131.0.2903.70)\nStacktrace:\n\t(No symbol) [0x00007FF6E5DF6B15]\n\tMicrosoft::Applications::Events::EventProperty::empty [0x00007FF6E611F4A4+1437348]\n\tsqlite3_dbdata_init [0x00007FF6E61C2DE6+643190]\n\t(No symbol) [0x00007FF6E5CB7657]\n\t(No symbol) [0x00007FF6E5D41CE5]\n\t(No symbol) [0x00007FF6E5D5670A]\n\t(No symbol) [0x00007FF6E5D3BE03]\n\t(No symbol) [0x00007FF6E5D12984]\n\t(No symbol) [0x00007FF6E5D11E30]\n\t(No symbol) [0x00007FF6E5D12571]\n\tMicrosoft::Applications::Events::EventProperty::empty [0x00007FF6E60CBB34+1094964]\n\t(No symbol) [0x00007FF6E5E332C8]\n\tMicrosoft::Applications::Events::EventProperty::empty [0x00007FF6E60CAF73+1091955]\n\tMicrosoft::Applications::Events::EventProperty::empty [0x00007FF6E60CAAD9+1090777]\n\tMicrosoft::Applications::Events::ILogConfiguration::operator* [0x00007FF6E5ED0CE1+461569]\n\tMicrosoft::Applications::Events::ILogConfiguration::operator* [0x00007FF6E5ECCA04+444452]\n\tMicrosoft::Applications::Events::ILogConfiguration::operator* [0x00007FF6E5ECCB49+444777]\n\tMicrosoft::Applications::Events::ILogConfiguration::operator* [0x00007FF6E5EC21C6+401382]\n\tBaseThreadInitThunk [0x00007FF9CCF8E8D7+23]\n\tRtlUserThreadStart [0x00007FF9CDF5FBCC+44]\n"
     ]
    }
   ],
   "source": [
    "from selenium import webdriver\n",
    "from webdriver_manager.microsoft import EdgeChromiumDriverManager\n",
    "from selenium.webdriver.edge.service import Service\n",
    "from selenium.webdriver.common.by import By\n",
    "from selenium.webdriver.common.keys import Keys\n",
    "from selenium.webdriver.edge.options import Options\n",
    "import time\n",
    "from selenium.webdriver.support.ui import WebDriverWait\n",
    "from selenium.webdriver.support import expected_conditions as EC\n",
    "import random\n",
    "import os\n",
    "import requests\n",
    "\n",
    "options = Options()\n",
    "options.add_argument(\"--incognito\") #시크릿모드로 열기\n",
    "service = Service(EdgeChromiumDriverManager().install())\n",
    "driver = webdriver.Edge(service=service, options = options)\n",
    "\n",
    "#홈페이지 방문\n",
    "driver.get(\"https://www.google.co.kr/\")\n",
    "search_box = driver.find_element(By.XPATH,'//*[@id=\"APjFqb\"]')\n",
    "search_box.send_keys(\"bear\")\n",
    "search_box.send_keys(Keys.ENTER)\n",
    "\n",
    "#이미지 클릭\n",
    "image_icon = driver.find_element(By.XPATH,'//*[@id=\"hdtb-sc\"]/div/div/div[1]/div/div[2]/a/div')\n",
    "image_icon.click()\n",
    "\n",
    "#무한스크롤\n",
    "last_height = driver.execute_script(\"return document.body.scrollHeight\")\n",
    "for i in range(3):\n",
    "    driver.execute_script(\"window.scrollTo(0, document.body.scrollHeight);\")\n",
    "    time.sleep(2)\n",
    "time.sleep(3)\n",
    "\n",
    "#이미지 데이터 저장\n",
    "images = driver.find_elements(By.CSS_SELECTOR, \"img.YQ4gaf\")\n",
    "os.makedirs(\"./images\", exist_ok=True) #폴더 생성 존재 시 무시\n",
    "\n",
    "code = 1\n",
    "for image in images:\n",
    "    src = image.get_attribute(\"src\")\n",
    "    if \"https\" in src:\n",
    "        res = requests.get(src) \n",
    "        #res.content :  이미지, 동영상 반환\n",
    "        #res.status_code : 응답 코드 반환\n",
    "        #res.headers : http 헤더의 정보 반환\n",
    "        #res.url : 최종 url 반환\n",
    "        with open(f\"./images/img_{code}.png\",\"wb\")as file:\n",
    "            file.write(res.content)\n",
    "        code+=1\n",
    "    "
   ]
  }
 ],
 "metadata": {
  "kernelspec": {
   "display_name": "jupyterlab",
   "language": "python",
   "name": "jupyterlab"
  },
  "language_info": {
   "codemirror_mode": {
    "name": "ipython",
    "version": 3
   },
   "file_extension": ".py",
   "mimetype": "text/x-python",
   "name": "python",
   "nbconvert_exporter": "python",
   "pygments_lexer": "ipython3",
   "version": "3.12.7"
  }
 },
 "nbformat": 4,
 "nbformat_minor": 5
}
