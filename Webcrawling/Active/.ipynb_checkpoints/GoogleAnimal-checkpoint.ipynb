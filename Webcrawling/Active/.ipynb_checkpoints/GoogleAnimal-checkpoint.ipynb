{
 "cells": [
  {
   "cell_type": "code",
   "execution_count": 33,
   "id": "2c57ed57-c323-4ca4-ac2d-5f78a9f4b6fd",
   "metadata": {},
   "outputs": [
    {
     "ename": "ElementClickInterceptedException",
     "evalue": "Message: element click intercepted: Element <img id=\"dimg_aHpRZ4qTNoL21e8P2Z23kQM_107\" src=\"data:image/png;base64,iVBORw0KGgoAAAANSUhEUgAAABAAAAAQCAYAAAAf8/9hAAACMElEQVQ4jV3TS2idVRQF4G/9ucZW9N4/vyg40HvJpYIvsIJYEVFxIlWkCAo+6EAUBHEuHSjo2IFQpOrAkThwIigURMQOfA0yraBeTSoOjC+SIDSNyXaQPzR2j/Y57LXX2mevE5iOJ/p4CD/MVpZn0/FkgOM4gXfxJs7PVpbtjznoRi0BR3G8a9sD+BEvVtUDkjvDH1jq2lbXtunatunatprF8UR2wQMcUvVk8UJ//jqylTLC87iuJ74M96BtVKndy2FVHZYIN+EI1qntUqpqAQf7BofwLO5o9s8TKSh1dVW9hL/xU+S3yHv4BVdV1WtV9RSODdLrx5r4qNStygGs4kvJ4z3zd7iAu8S9kXk8McDCrlTbOBU5K1qcaZpmfWdn5+w+kQM8FrkGhdEAr/Tgz5TPcXp2bndV0/FEkqaqLu9rGrR9s6qqM5mOJ19V1d2RVfEWTuLPvvg2HMPNWMPb2MDT2MSHA3yT5EhVXaucwLBpmper6r6qOpnkRnsuUWPyDF7dM9RcNxqdr+TBJKPeWD8n+QTPJXn0IhjlerIoruja9veubTfmunbh17Ba6kqxlOSN4XB4bnNz82jvhX17zpy4paoeTjKPLwb4F+9HPu7zf9bX1w/jflVcXPOeCmG+qqZJDg76WWrxhvFa74lRVb0uuf0S6O7LR5StJN8m2Rjsk7eX7WD7EvZClAuJZckHOFVV2/8jmY4nqkqSR6rqnSR7n+cvLOFTnMb32JqtLPsPaFvPNswdlPgAAAAASUVORK5CYII=\" class=\"YQ4gaf zr758c\" height=\"12\" width=\"12\" alt=\"\" data-csiid=\"aHpRZ4qTNoL21e8P2Z23kQM_196\" data-atf=\"12\"> is not clickable at point (471, 6). Other element would receive the click: <div class=\"sfbg\"></div>\n  (Session info: MicrosoftEdge=131.0.2903.70)\nStacktrace:\n\t(No symbol) [0x00007FF6E5DF6B15]\n\tMicrosoft::Applications::Events::EventProperty::empty [0x00007FF6E611F4A4+1437348]\n\tsqlite3_dbdata_init [0x00007FF6E61C2DE6+643190]\n\t(No symbol) [0x00007FF6E5D22E8A]\n\t(No symbol) [0x00007FF6E5D20FEC]\n\t(No symbol) [0x00007FF6E5D1EC27]\n\t(No symbol) [0x00007FF6E5D1DF29]\n\t(No symbol) [0x00007FF6E5D13EB3]\n\t(No symbol) [0x00007FF6E5D3C19A]\n\t(No symbol) [0x00007FF6E5D13437]\n\t(No symbol) [0x00007FF6E5D132FD]\n\t(No symbol) [0x00007FF6E5D3C480]\n\t(No symbol) [0x00007FF6E5D13437]\n\t(No symbol) [0x00007FF6E5D56BFF]\n\t(No symbol) [0x00007FF6E5D3BE03]\n\t(No symbol) [0x00007FF6E5D12984]\n\t(No symbol) [0x00007FF6E5D11E30]\n\t(No symbol) [0x00007FF6E5D12571]\n\tMicrosoft::Applications::Events::EventProperty::empty [0x00007FF6E60CBB34+1094964]\n\t(No symbol) [0x00007FF6E5E332C8]\n\tMicrosoft::Applications::Events::EventProperty::empty [0x00007FF6E60CAF73+1091955]\n\tMicrosoft::Applications::Events::EventProperty::empty [0x00007FF6E60CAAD9+1090777]\n\tMicrosoft::Applications::Events::ILogConfiguration::operator* [0x00007FF6E5ED0CE1+461569]\n\tMicrosoft::Applications::Events::ILogConfiguration::operator* [0x00007FF6E5ECCA04+444452]\n\tMicrosoft::Applications::Events::ILogConfiguration::operator* [0x00007FF6E5ECCB49+444777]\n\tMicrosoft::Applications::Events::ILogConfiguration::operator* [0x00007FF6E5EC21C6+401382]\n\tBaseThreadInitThunk [0x00007FF9CCF8E8D7+23]\n\tRtlUserThreadStart [0x00007FF9CDF5FBCC+44]\n",
     "output_type": "error",
     "traceback": [
      "\u001b[1;31m------------------------------------------------------------------------\u001b[0m",
      "\u001b[1;31mElementClickInterceptedException\u001b[0m       Traceback (most recent call last)",
      "Cell \u001b[1;32mIn[33], line 37\u001b[0m\n\u001b[0;32m     35\u001b[0m first_image \u001b[38;5;241m=\u001b[39m random\u001b[38;5;241m.\u001b[39mchoice(images)\n\u001b[0;32m     36\u001b[0m time\u001b[38;5;241m.\u001b[39msleep(\u001b[38;5;241m2\u001b[39m)\n\u001b[1;32m---> 37\u001b[0m first_image\u001b[38;5;241m.\u001b[39mclick()\n\u001b[0;32m     38\u001b[0m time\u001b[38;5;241m.\u001b[39msleep(\u001b[38;5;241m2\u001b[39m)\n\u001b[0;32m     39\u001b[0m \u001b[38;5;124;03m'''\u001b[39;00m\n\u001b[0;32m     40\u001b[0m \u001b[38;5;124;03mfor i in range(20):\u001b[39;00m\n\u001b[0;32m     41\u001b[0m \u001b[38;5;124;03m    time.sleep(2)\u001b[39;00m\n\u001b[1;32m   (...)\u001b[0m\n\u001b[0;32m     45\u001b[0m \u001b[38;5;124;03m    next_image.click()\u001b[39;00m\n\u001b[0;32m     46\u001b[0m \u001b[38;5;124;03m'''\u001b[39;00m\n",
      "File \u001b[1;32m~\\anaconda3\\envs\\jupyterlab\\Lib\\site-packages\\selenium\\webdriver\\remote\\webelement.py:94\u001b[0m, in \u001b[0;36mWebElement.click\u001b[1;34m(self)\u001b[0m\n\u001b[0;32m     92\u001b[0m \u001b[38;5;28;01mdef\u001b[39;00m \u001b[38;5;21mclick\u001b[39m(\u001b[38;5;28mself\u001b[39m) \u001b[38;5;241m-\u001b[39m\u001b[38;5;241m>\u001b[39m \u001b[38;5;28;01mNone\u001b[39;00m:\n\u001b[0;32m     93\u001b[0m \u001b[38;5;250m    \u001b[39m\u001b[38;5;124;03m\"\"\"Clicks the element.\"\"\"\u001b[39;00m\n\u001b[1;32m---> 94\u001b[0m     \u001b[38;5;28mself\u001b[39m\u001b[38;5;241m.\u001b[39m_execute(Command\u001b[38;5;241m.\u001b[39mCLICK_ELEMENT)\n",
      "File \u001b[1;32m~\\anaconda3\\envs\\jupyterlab\\Lib\\site-packages\\selenium\\webdriver\\remote\\webelement.py:395\u001b[0m, in \u001b[0;36mWebElement._execute\u001b[1;34m(self, command, params)\u001b[0m\n\u001b[0;32m    393\u001b[0m     params \u001b[38;5;241m=\u001b[39m {}\n\u001b[0;32m    394\u001b[0m params[\u001b[38;5;124m\"\u001b[39m\u001b[38;5;124mid\u001b[39m\u001b[38;5;124m\"\u001b[39m] \u001b[38;5;241m=\u001b[39m \u001b[38;5;28mself\u001b[39m\u001b[38;5;241m.\u001b[39m_id\n\u001b[1;32m--> 395\u001b[0m \u001b[38;5;28;01mreturn\u001b[39;00m \u001b[38;5;28mself\u001b[39m\u001b[38;5;241m.\u001b[39m_parent\u001b[38;5;241m.\u001b[39mexecute(command, params)\n",
      "File \u001b[1;32m~\\anaconda3\\envs\\jupyterlab\\Lib\\site-packages\\selenium\\webdriver\\remote\\webdriver.py:384\u001b[0m, in \u001b[0;36mWebDriver.execute\u001b[1;34m(self, driver_command, params)\u001b[0m\n\u001b[0;32m    382\u001b[0m response \u001b[38;5;241m=\u001b[39m \u001b[38;5;28mself\u001b[39m\u001b[38;5;241m.\u001b[39mcommand_executor\u001b[38;5;241m.\u001b[39mexecute(driver_command, params)\n\u001b[0;32m    383\u001b[0m \u001b[38;5;28;01mif\u001b[39;00m response:\n\u001b[1;32m--> 384\u001b[0m     \u001b[38;5;28mself\u001b[39m\u001b[38;5;241m.\u001b[39merror_handler\u001b[38;5;241m.\u001b[39mcheck_response(response)\n\u001b[0;32m    385\u001b[0m     response[\u001b[38;5;124m\"\u001b[39m\u001b[38;5;124mvalue\u001b[39m\u001b[38;5;124m\"\u001b[39m] \u001b[38;5;241m=\u001b[39m \u001b[38;5;28mself\u001b[39m\u001b[38;5;241m.\u001b[39m_unwrap_value(response\u001b[38;5;241m.\u001b[39mget(\u001b[38;5;124m\"\u001b[39m\u001b[38;5;124mvalue\u001b[39m\u001b[38;5;124m\"\u001b[39m, \u001b[38;5;28;01mNone\u001b[39;00m))\n\u001b[0;32m    386\u001b[0m     \u001b[38;5;28;01mreturn\u001b[39;00m response\n",
      "File \u001b[1;32m~\\anaconda3\\envs\\jupyterlab\\Lib\\site-packages\\selenium\\webdriver\\remote\\errorhandler.py:232\u001b[0m, in \u001b[0;36mErrorHandler.check_response\u001b[1;34m(self, response)\u001b[0m\n\u001b[0;32m    230\u001b[0m         alert_text \u001b[38;5;241m=\u001b[39m value[\u001b[38;5;124m\"\u001b[39m\u001b[38;5;124malert\u001b[39m\u001b[38;5;124m\"\u001b[39m]\u001b[38;5;241m.\u001b[39mget(\u001b[38;5;124m\"\u001b[39m\u001b[38;5;124mtext\u001b[39m\u001b[38;5;124m\"\u001b[39m)\n\u001b[0;32m    231\u001b[0m     \u001b[38;5;28;01mraise\u001b[39;00m exception_class(message, screen, stacktrace, alert_text)  \u001b[38;5;66;03m# type: ignore[call-arg]  # mypy is not smart enough here\u001b[39;00m\n\u001b[1;32m--> 232\u001b[0m \u001b[38;5;28;01mraise\u001b[39;00m exception_class(message, screen, stacktrace)\n",
      "\u001b[1;31mElementClickInterceptedException\u001b[0m: Message: element click intercepted: Element <img id=\"dimg_aHpRZ4qTNoL21e8P2Z23kQM_107\" src=\"data:image/png;base64,iVBORw0KGgoAAAANSUhEUgAAABAAAAAQCAYAAAAf8/9hAAACMElEQVQ4jV3TS2idVRQF4G/9ucZW9N4/vyg40HvJpYIvsIJYEVFxIlWkCAo+6EAUBHEuHSjo2IFQpOrAkThwIigURMQOfA0yraBeTSoOjC+SIDSNyXaQPzR2j/Y57LXX2mevE5iOJ/p4CD/MVpZn0/FkgOM4gXfxJs7PVpbtjznoRi0BR3G8a9sD+BEvVtUDkjvDH1jq2lbXtunatunatprF8UR2wQMcUvVk8UJ//jqylTLC87iuJ74M96BtVKndy2FVHZYIN+EI1qntUqpqAQf7BofwLO5o9s8TKSh1dVW9hL/xU+S3yHv4BVdV1WtV9RSODdLrx5r4qNStygGs4kvJ4z3zd7iAu8S9kXk8McDCrlTbOBU5K1qcaZpmfWdn5+w+kQM8FrkGhdEAr/Tgz5TPcXp2bndV0/FEkqaqLu9rGrR9s6qqM5mOJ19V1d2RVfEWTuLPvvg2HMPNWMPb2MDT2MSHA3yT5EhVXaucwLBpmper6r6qOpnkRnsuUWPyDF7dM9RcNxqdr+TBJKPeWD8n+QTPJXn0IhjlerIoruja9veubTfmunbh17Ba6kqxlOSN4XB4bnNz82jvhX17zpy4paoeTjKPLwb4F+9HPu7zf9bX1w/jflVcXPOeCmG+qqZJDg76WWrxhvFa74lRVb0uuf0S6O7LR5StJN8m2Rjsk7eX7WD7EvZClAuJZckHOFVV2/8jmY4nqkqSR6rqnSR7n+cvLOFTnMb32JqtLPsPaFvPNswdlPgAAAAASUVORK5CYII=\" class=\"YQ4gaf zr758c\" height=\"12\" width=\"12\" alt=\"\" data-csiid=\"aHpRZ4qTNoL21e8P2Z23kQM_196\" data-atf=\"12\"> is not clickable at point (471, 6). Other element would receive the click: <div class=\"sfbg\"></div>\n  (Session info: MicrosoftEdge=131.0.2903.70)\nStacktrace:\n\t(No symbol) [0x00007FF6E5DF6B15]\n\tMicrosoft::Applications::Events::EventProperty::empty [0x00007FF6E611F4A4+1437348]\n\tsqlite3_dbdata_init [0x00007FF6E61C2DE6+643190]\n\t(No symbol) [0x00007FF6E5D22E8A]\n\t(No symbol) [0x00007FF6E5D20FEC]\n\t(No symbol) [0x00007FF6E5D1EC27]\n\t(No symbol) [0x00007FF6E5D1DF29]\n\t(No symbol) [0x00007FF6E5D13EB3]\n\t(No symbol) [0x00007FF6E5D3C19A]\n\t(No symbol) [0x00007FF6E5D13437]\n\t(No symbol) [0x00007FF6E5D132FD]\n\t(No symbol) [0x00007FF6E5D3C480]\n\t(No symbol) [0x00007FF6E5D13437]\n\t(No symbol) [0x00007FF6E5D56BFF]\n\t(No symbol) [0x00007FF6E5D3BE03]\n\t(No symbol) [0x00007FF6E5D12984]\n\t(No symbol) [0x00007FF6E5D11E30]\n\t(No symbol) [0x00007FF6E5D12571]\n\tMicrosoft::Applications::Events::EventProperty::empty [0x00007FF6E60CBB34+1094964]\n\t(No symbol) [0x00007FF6E5E332C8]\n\tMicrosoft::Applications::Events::EventProperty::empty [0x00007FF6E60CAF73+1091955]\n\tMicrosoft::Applications::Events::EventProperty::empty [0x00007FF6E60CAAD9+1090777]\n\tMicrosoft::Applications::Events::ILogConfiguration::operator* [0x00007FF6E5ED0CE1+461569]\n\tMicrosoft::Applications::Events::ILogConfiguration::operator* [0x00007FF6E5ECCA04+444452]\n\tMicrosoft::Applications::Events::ILogConfiguration::operator* [0x00007FF6E5ECCB49+444777]\n\tMicrosoft::Applications::Events::ILogConfiguration::operator* [0x00007FF6E5EC21C6+401382]\n\tBaseThreadInitThunk [0x00007FF9CCF8E8D7+23]\n\tRtlUserThreadStart [0x00007FF9CDF5FBCC+44]\n"
     ]
    }
   ],
   "source": [
    "from selenium import webdriver\n",
    "from webdriver_manager.microsoft import EdgeChromiumDriverManager\n",
    "from selenium.webdriver.edge.service import Service\n",
    "from selenium.webdriver.common.by import By\n",
    "from selenium.webdriver.common.keys import Keys\n",
    "from selenium.webdriver.edge.options import Options\n",
    "import time\n",
    "from selenium.webdriver.support.ui import WebDriverWait\n",
    "from selenium.webdriver.support import expected_conditions as EC\n",
    "import random\n",
    "import os\n",
    "\n",
    "options = Options()\n",
    "options.add_argument(\"--incognito\") #시크릿모드로 열기\n",
    "options.add_argument(\"window-size=400,800\")  # 너비 400px, 높이 800px로 설정\n",
    "service = Service(EdgeChromiumDriverManager().install())\n",
    "driver = webdriver.Edge(service=service, options = options)\n",
    "\n",
    "#홈페이지 방문\n",
    "driver.get(\"https://www.google.co.kr/\")\n",
    "search_box = driver.find_element(By.XPATH,'//*[@id=\"APjFqb\"]')\n",
    "search_box.send_keys(\"bear\")\n",
    "search_box.send_keys(Keys.ENTER)\n",
    "\n",
    "#이미지 클릭\n",
    "image_icon = driver.find_element(By.XPATH,'//*[@id=\"hdtb-sc\"]/div/div/div[1]/div/div[2]/a/div')\n",
    "image_icon.click()\n",
    "\n",
    "#무한스크롤\n",
    "last_height = driver.execute_script(\"return document.body.scrollHeight\")\n",
    "for i in range(3):\n",
    "    driver.execute_script(\"window.scrollTo(0, document.body.scrollHeight);\")\n",
    "time.sleep(5)\n",
    "\n",
    "#이미지 데이터 저장\n",
    "images = driver.find_elements(By.CSS_SELECTOR, \"img.YQ4gaf\")\n",
    "os.makedirs(\"./Active/images\", exist_ok=True) #폴더 생성 존재 시 무시\n",
    "\n",
    "for image in images:\n",
    "    src = image.get_attribute(\"src\")\n",
    "    \n",
    "    "
   ]
  }
 ],
 "metadata": {
  "kernelspec": {
   "display_name": "jupyterlab",
   "language": "python",
   "name": "jupyterlab"
  },
  "language_info": {
   "codemirror_mode": {
    "name": "ipython",
    "version": 3
   },
   "file_extension": ".py",
   "mimetype": "text/x-python",
   "name": "python",
   "nbconvert_exporter": "python",
   "pygments_lexer": "ipython3",
   "version": "3.12.7"
  }
 },
 "nbformat": 4,
 "nbformat_minor": 5
}
