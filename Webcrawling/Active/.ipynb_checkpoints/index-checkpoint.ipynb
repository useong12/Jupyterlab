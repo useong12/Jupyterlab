{
 "cells": [
  {
   "cell_type": "code",
   "execution_count": 20,
   "id": "613180a0-8476-4394-8163-8e5740b6f596",
   "metadata": {},
   "outputs": [
    {
     "name": "stdout",
     "output_type": "stream",
     "text": [
      "Requirement already satisfied: selenium in c:\\users\\ws060\\anaconda3\\envs\\jupyterlab\\lib\\site-packages (4.27.1)\n",
      "Requirement already satisfied: urllib3<3,>=1.26 in c:\\users\\ws060\\anaconda3\\envs\\jupyterlab\\lib\\site-packages (from urllib3[socks]<3,>=1.26->selenium) (2.2.3)\n",
      "Requirement already satisfied: trio~=0.17 in c:\\users\\ws060\\anaconda3\\envs\\jupyterlab\\lib\\site-packages (from selenium) (0.27.0)\n",
      "Requirement already satisfied: trio-websocket~=0.9 in c:\\users\\ws060\\anaconda3\\envs\\jupyterlab\\lib\\site-packages (from selenium) (0.11.1)\n",
      "Requirement already satisfied: certifi>=2021.10.8 in c:\\users\\ws060\\anaconda3\\envs\\jupyterlab\\lib\\site-packages (from selenium) (2024.8.30)\n",
      "Requirement already satisfied: typing_extensions~=4.9 in c:\\users\\ws060\\anaconda3\\envs\\jupyterlab\\lib\\site-packages (from selenium) (4.11.0)\n",
      "Requirement already satisfied: websocket-client~=1.8 in c:\\users\\ws060\\anaconda3\\envs\\jupyterlab\\lib\\site-packages (from selenium) (1.8.0)\n",
      "Requirement already satisfied: attrs>=23.2.0 in c:\\users\\ws060\\anaconda3\\envs\\jupyterlab\\lib\\site-packages (from trio~=0.17->selenium) (24.2.0)\n",
      "Requirement already satisfied: sortedcontainers in c:\\users\\ws060\\anaconda3\\envs\\jupyterlab\\lib\\site-packages (from trio~=0.17->selenium) (2.4.0)\n",
      "Requirement already satisfied: idna in c:\\users\\ws060\\anaconda3\\envs\\jupyterlab\\lib\\site-packages (from trio~=0.17->selenium) (3.7)\n",
      "Requirement already satisfied: outcome in c:\\users\\ws060\\anaconda3\\envs\\jupyterlab\\lib\\site-packages (from trio~=0.17->selenium) (1.3.0.post0)\n",
      "Requirement already satisfied: sniffio>=1.3.0 in c:\\users\\ws060\\anaconda3\\envs\\jupyterlab\\lib\\site-packages (from trio~=0.17->selenium) (1.3.0)\n",
      "Requirement already satisfied: cffi>=1.14 in c:\\users\\ws060\\anaconda3\\envs\\jupyterlab\\lib\\site-packages (from trio~=0.17->selenium) (1.17.1)\n",
      "Requirement already satisfied: wsproto>=0.14 in c:\\users\\ws060\\anaconda3\\envs\\jupyterlab\\lib\\site-packages (from trio-websocket~=0.9->selenium) (1.2.0)\n",
      "Requirement already satisfied: pysocks!=1.5.7,<2.0,>=1.5.6 in c:\\users\\ws060\\anaconda3\\envs\\jupyterlab\\lib\\site-packages (from urllib3[socks]<3,>=1.26->selenium) (1.7.1)\n",
      "Requirement already satisfied: pycparser in c:\\users\\ws060\\anaconda3\\envs\\jupyterlab\\lib\\site-packages (from cffi>=1.14->trio~=0.17->selenium) (2.21)\n",
      "Requirement already satisfied: h11<1,>=0.9.0 in c:\\users\\ws060\\anaconda3\\envs\\jupyterlab\\lib\\site-packages (from wsproto>=0.14->trio-websocket~=0.9->selenium) (0.14.0)\n",
      "Requirement already satisfied: webdriver_manager in c:\\users\\ws060\\anaconda3\\envs\\jupyterlab\\lib\\site-packages (4.0.2)\n",
      "Requirement already satisfied: requests in c:\\users\\ws060\\anaconda3\\envs\\jupyterlab\\lib\\site-packages (from webdriver_manager) (2.32.3)\n",
      "Requirement already satisfied: python-dotenv in c:\\users\\ws060\\anaconda3\\envs\\jupyterlab\\lib\\site-packages (from webdriver_manager) (1.0.1)\n",
      "Requirement already satisfied: packaging in c:\\users\\ws060\\anaconda3\\envs\\jupyterlab\\lib\\site-packages (from webdriver_manager) (24.1)\n",
      "Requirement already satisfied: charset-normalizer<4,>=2 in c:\\users\\ws060\\anaconda3\\envs\\jupyterlab\\lib\\site-packages (from requests->webdriver_manager) (3.3.2)\n",
      "Requirement already satisfied: idna<4,>=2.5 in c:\\users\\ws060\\anaconda3\\envs\\jupyterlab\\lib\\site-packages (from requests->webdriver_manager) (3.7)\n",
      "Requirement already satisfied: urllib3<3,>=1.21.1 in c:\\users\\ws060\\anaconda3\\envs\\jupyterlab\\lib\\site-packages (from requests->webdriver_manager) (2.2.3)\n",
      "Requirement already satisfied: certifi>=2017.4.17 in c:\\users\\ws060\\anaconda3\\envs\\jupyterlab\\lib\\site-packages (from requests->webdriver_manager) (2024.8.30)\n"
     ]
    }
   ],
   "source": [
    "!pip install selenium\n",
    "!pip install webdriver_manager"
   ]
  },
  {
   "cell_type": "code",
   "execution_count": 48,
   "id": "96794f6b-528e-4daa-b3ba-da0990c34953",
   "metadata": {},
   "outputs": [],
   "source": [
    "from selenium import webdriver\n",
    "from webdriver_manager.microsoft import EdgeChromiumDriverManager\n",
    "from selenium.webdriver.edge.service import Service\n",
    "from selenium.webdriver.common.by import By\n",
    "from selenium.webdriver.common.keys import Keys\n",
    "from selenium.webdriver.edge.options import Options\n",
    "import time\n",
    "\n",
    "# 옵션객체\n",
    "options = Options()\n",
    "# 옵션 추가\n",
    "options.add_argument(\"--start-maximized\") # 최대화된 창으로 열기\n",
    "options.add_argument(\"--incognito\") #시크릿모드로 열기\n",
    "\n",
    "service = Service(EdgeChromiumDriverManager().install())\n",
    "driver = webdriver.Edge(service=service, options = options)\n",
    "\n",
    "driver.get(\"https://www.google.co.kr/\")\n",
    "#print(driver.current_url)\n",
    "#무한스크롤페이지 스크롤내리기\n",
    "#driver.execute_script(\"window.scrollTo(0,document.body.scrollHeight);\")\n",
    "#driver.implicitly_wait(5)\n",
    "\n",
    "#검색창 가져오기\n",
    "search_input = driver.find_element(By.NAME, \"q\")\n",
    "\n",
    "#가져온 검색창에 검색어 입력\n",
    "search_input.send_keys(\"파이썬 코딩연습\")\n",
    "search_input.send_keys(Keys.ENTER)\n",
    "#time.sleep(2)\n",
    "#driver.save_screenshot(\"./python/save.png\")"
   ]
  },
  {
   "cell_type": "code",
   "execution_count": null,
   "id": "17460617-2413-428b-bfb9-c5c29f73e5ac",
   "metadata": {},
   "outputs": [],
   "source": [
    "#2초 뒤 입력한 검색어 삭제\n",
    "time.sleep(2)\n",
    "search_input.clear()\n",
    "\n",
    "email_text = driver.find_element(By.XPATH,'//*[@id=\"gb\"]/div/div[1]/div/div[1]/a')\n",
    "href = email_text.get_attribute(\"href\")\n",
    "print(href)\n",
    "\n",
    "input(\"대기\")"
   ]
  },
  {
   "cell_type": "code",
   "execution_count": null,
   "id": "afc50fb6-f9ef-4436-8366-48120d684097",
   "metadata": {},
   "outputs": [],
   "source": []
  }
 ],
 "metadata": {
  "kernelspec": {
   "display_name": "jupyterlab",
   "language": "python",
   "name": "jupyterlab"
  },
  "language_info": {
   "codemirror_mode": {
    "name": "ipython",
    "version": 3
   },
   "file_extension": ".py",
   "mimetype": "text/x-python",
   "name": "python",
   "nbconvert_exporter": "python",
   "pygments_lexer": "ipython3",
   "version": "3.12.7"
  }
 },
 "nbformat": 4,
 "nbformat_minor": 5
}
