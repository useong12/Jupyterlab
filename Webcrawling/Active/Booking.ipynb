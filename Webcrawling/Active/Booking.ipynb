{
 "cells": [
  {
   "cell_type": "code",
   "execution_count": 1,
   "id": "eaa666a6-210e-4358-b8c3-543b7b77eded",
   "metadata": {},
   "outputs": [
    {
     "ename": "NoSuchElementException",
     "evalue": "Message: no such element: Unable to locate element: {\"method\":\"xpath\",\"selector\":\"//*[@id=\"bodyconstraint-inner\"]/div[2]/div/div[2]/div[3]/div[2]/div[2]/div[3]/div[3]/div[1]/div[2]/div/div[2]/div[2]/div/div[1]/span\"}\n  (Session info: MicrosoftEdge=131.0.2903.70); For documentation on this error, please visit: https://www.selenium.dev/documentation/webdriver/troubleshooting/errors#no-such-element-exception\nStacktrace:\n\t(No symbol) [0x00007FF6E5DF6B15]\n\tMicrosoft::Applications::Events::EventProperty::empty [0x00007FF6E611F4A4+1437348]\n\tsqlite3_dbdata_init [0x00007FF6E61C2DE6+643190]\n\t(No symbol) [0x00007FF6E5D1C9DB]\n\t(No symbol) [0x00007FF6E5D1CAE3]\n\t(No symbol) [0x00007FF6E5D592F7]\n\t(No symbol) [0x00007FF6E5D3C1DF]\n\t(No symbol) [0x00007FF6E5D13437]\n\t(No symbol) [0x00007FF6E5D56BFF]\n\t(No symbol) [0x00007FF6E5D3BE03]\n\t(No symbol) [0x00007FF6E5D12984]\n\t(No symbol) [0x00007FF6E5D11E30]\n\t(No symbol) [0x00007FF6E5D12571]\n\tMicrosoft::Applications::Events::EventProperty::empty [0x00007FF6E60CBB34+1094964]\n\t(No symbol) [0x00007FF6E5E332C8]\n\tMicrosoft::Applications::Events::EventProperty::empty [0x00007FF6E60CAF73+1091955]\n\tMicrosoft::Applications::Events::EventProperty::empty [0x00007FF6E60CAAD9+1090777]\n\tMicrosoft::Applications::Events::ILogConfiguration::operator* [0x00007FF6E5ED0CE1+461569]\n\tMicrosoft::Applications::Events::ILogConfiguration::operator* [0x00007FF6E5ECCA04+444452]\n\tMicrosoft::Applications::Events::ILogConfiguration::operator* [0x00007FF6E5ECCB49+444777]\n\tMicrosoft::Applications::Events::ILogConfiguration::operator* [0x00007FF6E5EC21C6+401382]\n\tBaseThreadInitThunk [0x00007FF9CCF8E8D7+23]\n\tRtlUserThreadStart [0x00007FF9CDF5FBCC+44]\n",
     "output_type": "error",
     "traceback": [
      "\u001b[1;31m------------------------------------------------------------------------\u001b[0m",
      "\u001b[1;31mNoSuchElementException\u001b[0m                 Traceback (most recent call last)",
      "Cell \u001b[1;32mIn[1], line 41\u001b[0m\n\u001b[0;32m     39\u001b[0m \u001b[38;5;66;03m#호텔 이름,가격 추출\u001b[39;00m\n\u001b[0;32m     40\u001b[0m hotel_name \u001b[38;5;241m=\u001b[39m driver\u001b[38;5;241m.\u001b[39mfind_element(By\u001b[38;5;241m.\u001b[39mXPATH,\u001b[38;5;124m'\u001b[39m\u001b[38;5;124m//*[@id=\u001b[39m\u001b[38;5;124m\"\u001b[39m\u001b[38;5;124mbodyconstraint-inner\u001b[39m\u001b[38;5;124m\"\u001b[39m\u001b[38;5;124m]/div[2]/div/div[2]/div[3]/div[2]/div[2]/div[3]/div[3]/div[1]/div[2]/div/div[1]/div[1]/div/div[1]/div/h3/a/div[1]\u001b[39m\u001b[38;5;124m'\u001b[39m)\n\u001b[1;32m---> 41\u001b[0m hotel_price \u001b[38;5;241m=\u001b[39m driver\u001b[38;5;241m.\u001b[39mfind_element(By\u001b[38;5;241m.\u001b[39mXPATH,\u001b[38;5;124m'\u001b[39m\u001b[38;5;124m//*[@id=\u001b[39m\u001b[38;5;124m\"\u001b[39m\u001b[38;5;124mbodyconstraint-inner\u001b[39m\u001b[38;5;124m\"\u001b[39m\u001b[38;5;124m]/div[2]/div/div[2]/div[3]/div[2]/div[2]/div[3]/div[3]/div[1]/div[2]/div/div[2]/div[2]/div/div[1]/span\u001b[39m\u001b[38;5;124m'\u001b[39m)\n\u001b[0;32m     42\u001b[0m \u001b[38;5;28mprint\u001b[39m(\u001b[38;5;124mf\u001b[39m\u001b[38;5;124m\"\u001b[39m\u001b[38;5;132;01m{\u001b[39;00mhotel_name\u001b[38;5;241m.\u001b[39mtext\u001b[38;5;132;01m}\u001b[39;00m\u001b[38;5;124m : \u001b[39m\u001b[38;5;132;01m{\u001b[39;00mhotel_price\u001b[38;5;241m.\u001b[39mtext\u001b[38;5;132;01m}\u001b[39;00m\u001b[38;5;124m원\u001b[39m\u001b[38;5;124m\"\u001b[39m)\n",
      "File \u001b[1;32m~\\anaconda3\\envs\\jupyterlab\\Lib\\site-packages\\selenium\\webdriver\\remote\\webdriver.py:770\u001b[0m, in \u001b[0;36mWebDriver.find_element\u001b[1;34m(self, by, value)\u001b[0m\n\u001b[0;32m    767\u001b[0m         \u001b[38;5;28;01mraise\u001b[39;00m NoSuchElementException(\u001b[38;5;124mf\u001b[39m\u001b[38;5;124m\"\u001b[39m\u001b[38;5;124mCannot locate relative element with: \u001b[39m\u001b[38;5;132;01m{\u001b[39;00mby\u001b[38;5;241m.\u001b[39mroot\u001b[38;5;132;01m}\u001b[39;00m\u001b[38;5;124m\"\u001b[39m)\n\u001b[0;32m    768\u001b[0m     \u001b[38;5;28;01mreturn\u001b[39;00m elements[\u001b[38;5;241m0\u001b[39m]\n\u001b[1;32m--> 770\u001b[0m \u001b[38;5;28;01mreturn\u001b[39;00m \u001b[38;5;28mself\u001b[39m\u001b[38;5;241m.\u001b[39mexecute(Command\u001b[38;5;241m.\u001b[39mFIND_ELEMENT, {\u001b[38;5;124m\"\u001b[39m\u001b[38;5;124musing\u001b[39m\u001b[38;5;124m\"\u001b[39m: by, \u001b[38;5;124m\"\u001b[39m\u001b[38;5;124mvalue\u001b[39m\u001b[38;5;124m\"\u001b[39m: value})[\u001b[38;5;124m\"\u001b[39m\u001b[38;5;124mvalue\u001b[39m\u001b[38;5;124m\"\u001b[39m]\n",
      "File \u001b[1;32m~\\anaconda3\\envs\\jupyterlab\\Lib\\site-packages\\selenium\\webdriver\\remote\\webdriver.py:384\u001b[0m, in \u001b[0;36mWebDriver.execute\u001b[1;34m(self, driver_command, params)\u001b[0m\n\u001b[0;32m    382\u001b[0m response \u001b[38;5;241m=\u001b[39m \u001b[38;5;28mself\u001b[39m\u001b[38;5;241m.\u001b[39mcommand_executor\u001b[38;5;241m.\u001b[39mexecute(driver_command, params)\n\u001b[0;32m    383\u001b[0m \u001b[38;5;28;01mif\u001b[39;00m response:\n\u001b[1;32m--> 384\u001b[0m     \u001b[38;5;28mself\u001b[39m\u001b[38;5;241m.\u001b[39merror_handler\u001b[38;5;241m.\u001b[39mcheck_response(response)\n\u001b[0;32m    385\u001b[0m     response[\u001b[38;5;124m\"\u001b[39m\u001b[38;5;124mvalue\u001b[39m\u001b[38;5;124m\"\u001b[39m] \u001b[38;5;241m=\u001b[39m \u001b[38;5;28mself\u001b[39m\u001b[38;5;241m.\u001b[39m_unwrap_value(response\u001b[38;5;241m.\u001b[39mget(\u001b[38;5;124m\"\u001b[39m\u001b[38;5;124mvalue\u001b[39m\u001b[38;5;124m\"\u001b[39m, \u001b[38;5;28;01mNone\u001b[39;00m))\n\u001b[0;32m    386\u001b[0m     \u001b[38;5;28;01mreturn\u001b[39;00m response\n",
      "File \u001b[1;32m~\\anaconda3\\envs\\jupyterlab\\Lib\\site-packages\\selenium\\webdriver\\remote\\errorhandler.py:232\u001b[0m, in \u001b[0;36mErrorHandler.check_response\u001b[1;34m(self, response)\u001b[0m\n\u001b[0;32m    230\u001b[0m         alert_text \u001b[38;5;241m=\u001b[39m value[\u001b[38;5;124m\"\u001b[39m\u001b[38;5;124malert\u001b[39m\u001b[38;5;124m\"\u001b[39m]\u001b[38;5;241m.\u001b[39mget(\u001b[38;5;124m\"\u001b[39m\u001b[38;5;124mtext\u001b[39m\u001b[38;5;124m\"\u001b[39m)\n\u001b[0;32m    231\u001b[0m     \u001b[38;5;28;01mraise\u001b[39;00m exception_class(message, screen, stacktrace, alert_text)  \u001b[38;5;66;03m# type: ignore[call-arg]  # mypy is not smart enough here\u001b[39;00m\n\u001b[1;32m--> 232\u001b[0m \u001b[38;5;28;01mraise\u001b[39;00m exception_class(message, screen, stacktrace)\n",
      "\u001b[1;31mNoSuchElementException\u001b[0m: Message: no such element: Unable to locate element: {\"method\":\"xpath\",\"selector\":\"//*[@id=\"bodyconstraint-inner\"]/div[2]/div/div[2]/div[3]/div[2]/div[2]/div[3]/div[3]/div[1]/div[2]/div/div[2]/div[2]/div/div[1]/span\"}\n  (Session info: MicrosoftEdge=131.0.2903.70); For documentation on this error, please visit: https://www.selenium.dev/documentation/webdriver/troubleshooting/errors#no-such-element-exception\nStacktrace:\n\t(No symbol) [0x00007FF6E5DF6B15]\n\tMicrosoft::Applications::Events::EventProperty::empty [0x00007FF6E611F4A4+1437348]\n\tsqlite3_dbdata_init [0x00007FF6E61C2DE6+643190]\n\t(No symbol) [0x00007FF6E5D1C9DB]\n\t(No symbol) [0x00007FF6E5D1CAE3]\n\t(No symbol) [0x00007FF6E5D592F7]\n\t(No symbol) [0x00007FF6E5D3C1DF]\n\t(No symbol) [0x00007FF6E5D13437]\n\t(No symbol) [0x00007FF6E5D56BFF]\n\t(No symbol) [0x00007FF6E5D3BE03]\n\t(No symbol) [0x00007FF6E5D12984]\n\t(No symbol) [0x00007FF6E5D11E30]\n\t(No symbol) [0x00007FF6E5D12571]\n\tMicrosoft::Applications::Events::EventProperty::empty [0x00007FF6E60CBB34+1094964]\n\t(No symbol) [0x00007FF6E5E332C8]\n\tMicrosoft::Applications::Events::EventProperty::empty [0x00007FF6E60CAF73+1091955]\n\tMicrosoft::Applications::Events::EventProperty::empty [0x00007FF6E60CAAD9+1090777]\n\tMicrosoft::Applications::Events::ILogConfiguration::operator* [0x00007FF6E5ED0CE1+461569]\n\tMicrosoft::Applications::Events::ILogConfiguration::operator* [0x00007FF6E5ECCA04+444452]\n\tMicrosoft::Applications::Events::ILogConfiguration::operator* [0x00007FF6E5ECCB49+444777]\n\tMicrosoft::Applications::Events::ILogConfiguration::operator* [0x00007FF6E5EC21C6+401382]\n\tBaseThreadInitThunk [0x00007FF9CCF8E8D7+23]\n\tRtlUserThreadStart [0x00007FF9CDF5FBCC+44]\n"
     ]
    }
   ],
   "source": [
    "from selenium import webdriver\n",
    "from webdriver_manager.microsoft import EdgeChromiumDriverManager\n",
    "from selenium.webdriver.edge.service import Service\n",
    "from selenium.webdriver.common.by import By\n",
    "from selenium.webdriver.common.keys import Keys\n",
    "from selenium.webdriver.edge.options import Options\n",
    "import time\n",
    "from selenium.webdriver.support.ui import WebDriverWait\n",
    "from selenium.webdriver.support import expected_conditions as EC\n",
    "\n",
    "options = Options()\n",
    "options.add_argument(\"--start-maximized\") # 최대화된 창으로 열기\n",
    "options.add_argument(\"--incognito\") #시크릿모드로 열기\n",
    "service = Service(EdgeChromiumDriverManager().install())\n",
    "driver = webdriver.Edge(service=service, options = options)\n",
    "\n",
    "#홈페이지 방문\n",
    "driver.get(\"https://www.booking.com/index.ko.html?aid=373003&label=naver-brandz-desktop-homelink1-TFGr8Q9e_r6mqqElNYSzrQ\")\n",
    "body = driver.find_element(By.XPATH,'//*[@id=\"b2indexPage\"]')\n",
    "time.sleep(5)\n",
    "body.send_keys(Keys.ENTER)\n",
    "#로그인 창 없기기\n",
    "first = driver.find_element(By.XPATH,'//*[@id=\":rh:\"]')\n",
    "first.send_keys(\"서울\")\n",
    "first.send_keys(Keys.ENTER)\n",
    "#여행도시 및 날짜 선택\n",
    "\n",
    "time.sleep(2)\n",
    "start = driver.find_element(By.XPATH,'//*[@id=\"calendar-searchboxdatepicker\"]/div/div[1]/div/div[1]/table/tbody/tr[2]/td[4]/span')\n",
    "start.click()\n",
    "time.sleep(2)\n",
    "end = driver.find_element(By.XPATH,'//*[@id=\"calendar-searchboxdatepicker\"]/div/div[1]/div/div[1]/table/tbody/tr[3]/td[4]/span')\n",
    "end.click()\n",
    "time.sleep(2)\n",
    "search = driver.find_element(By.XPATH,'//*[@id=\"bodyconstraint-inner\"]/div[2]/div/div[1]/div/form/div/div[4]/button')\n",
    "search.click()\n",
    "\n",
    "time.sleep(10)\n",
    "#호텔 이름,가격 추출\n",
    "hotel_name = driver.find_element(By.XPATH,'//*[@id=\"bodyconstraint-inner\"]/div[2]/div/div[2]/div[3]/div[2]/div[2]/div[3]/div[3]/div[1]/div[2]/div/div[1]/div[1]/div/div[1]/div/h3/a/div[1]')\n",
    "hotel_price = driver.find_element(By.XPATH,'//*[@id=\"bodyconstraint-inner\"]/div[2]/div/div[2]/div[3]/div[2]/div[2]/div[3]/div[3]/div[1]/div[2]/div/div[2]/div[2]/div/div[1]/span')\n",
    "print(f\"{hotel_name.text} : {hotel_price.text}원\")"
   ]
  },
  {
   "cell_type": "code",
   "execution_count": null,
   "id": "3e001cf9-fb95-46a2-93f0-5f01d314934c",
   "metadata": {},
   "outputs": [],
   "source": []
  }
 ],
 "metadata": {
  "kernelspec": {
   "display_name": "jupyterlab",
   "language": "python",
   "name": "jupyterlab"
  },
  "language_info": {
   "codemirror_mode": {
    "name": "ipython",
    "version": 3
   },
   "file_extension": ".py",
   "mimetype": "text/x-python",
   "name": "python",
   "nbconvert_exporter": "python",
   "pygments_lexer": "ipython3",
   "version": "3.12.7"
  }
 },
 "nbformat": 4,
 "nbformat_minor": 5
}
