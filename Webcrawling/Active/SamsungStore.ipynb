{
 "cells": [
  {
   "cell_type": "code",
   "execution_count": 15,
   "id": "06586820-ad55-4d10-b071-59a57af61593",
   "metadata": {},
   "outputs": [
    {
     "name": "stdout",
     "output_type": "stream",
     "text": [
      "삼성전자 인증점 108cm FHD TV UN43N5010AFXKR\n",
      "14 판매\n",
      "₩401,986\n",
      "₩600,000\n",
      "-33%\n",
      "한국에서 발송 · 무료 배송\n",
      "삼성 공식 파트너 보보 스토어\n",
      "L.G 24년형 블랙프라이데이 55인치 4K UHD 스마트티비 유튜브 넷플릭스 OTT 55UT7570\n",
      "₩625,800\n",
      "한국에서 발송 · 무료 배송\n",
      "바움 스토어\n"
     ]
    }
   ],
   "source": [
    "from selenium import webdriver\n",
    "from webdriver_manager.microsoft import EdgeChromiumDriverManager\n",
    "from selenium.webdriver.edge.service import Service\n",
    "from selenium.webdriver.common.by import By\n",
    "from selenium.webdriver.common.keys import Keys\n",
    "from selenium.webdriver.edge.options import Options\n",
    "import time\n",
    "\n",
    "options = Options()\n",
    "options.add_argument(\"--start-maximized\") # 최대화된 창으로 열기\n",
    "options.add_argument(\"--incognito\") #시크릿모드로 열기\n",
    "service = Service(EdgeChromiumDriverManager().install())\n",
    "driver = webdriver.Edge(service=service, options = options)\n",
    "\n",
    "#홈페이지 방문\n",
    "driver.get(\"https://ko.aliexpress.com/\")\n",
    "time.sleep(2)\n",
    "#TV 검색\n",
    "search_box = driver.find_element(By.XPATH,'//*[@id=\"search-words\"]')\n",
    "search_box.send_keys(\"TV\")\n",
    "search_box.send_keys(Keys.ENTER)\n",
    "time.sleep(5)\n",
    "#가격 범위 선정(40만원 이상)\n",
    "price = driver.find_element(By.XPATH,'//*[@id=\"root\"]/div[1]/div/div[1]/div[3]/div[2]/div/div/span[1]/input')\n",
    "price.send_keys(400000)\n",
    "time.sleep(3)\n",
    "price_button = driver.find_element(By.XPATH,'//*[@id=\"root\"]/div[1]/div/div[1]/div[3]/div[2]/div/div/span[4]')\n",
    "price_button.click()\n",
    "#제품 이름 및 가격 추출\n",
    "time.sleep(3)\n",
    "information = driver.find_element(By.XPATH,'//*[@id=\"card-list\"]')\n",
    "print(information.text)"
   ]
  }
 ],
 "metadata": {
  "kernelspec": {
   "display_name": "jupyterlab",
   "language": "python",
   "name": "jupyterlab"
  },
  "language_info": {
   "codemirror_mode": {
    "name": "ipython",
    "version": 3
   },
   "file_extension": ".py",
   "mimetype": "text/x-python",
   "name": "python",
   "nbconvert_exporter": "python",
   "pygments_lexer": "ipython3",
   "version": "3.12.7"
  }
 },
 "nbformat": 4,
 "nbformat_minor": 5
}
