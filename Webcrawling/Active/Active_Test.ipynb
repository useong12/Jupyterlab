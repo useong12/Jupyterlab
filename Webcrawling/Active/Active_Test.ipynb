{
 "cells": [
  {
   "cell_type": "code",
   "execution_count": 27,
   "id": "fd9662a5-ba63-4349-bff3-ccbcfa92ded6",
   "metadata": {},
   "outputs": [
    {
     "name": "stdout",
     "output_type": "stream",
     "text": [
      "조우성 님\n"
     ]
    }
   ],
   "source": [
    "from selenium import webdriver\n",
    "from webdriver_manager.microsoft import EdgeChromiumDriverManager\n",
    "from selenium.webdriver.edge.service import Service\n",
    "from selenium.webdriver.common.by import By\n",
    "from selenium.webdriver.common.keys import Keys\n",
    "from selenium.webdriver.edge.options import Options\n",
    "import time\n",
    "\n",
    "options = Options()\n",
    "options.add_argument(\"--start-maximized\") # 최대화된 창으로 열기\n",
    "options.add_argument(\"--incognito\") #시크릿모드로 열기\n",
    "service = Service(EdgeChromiumDriverManager().install())\n",
    "driver = webdriver.Edge(service=service, options = options)\n",
    "\n",
    "driver.get(\"https://codingon.co.kr/partner/kdt_energy_1st/login\")\n",
    "\n",
    "# Load log-in Page\n",
    "#login_button = driver.find_element(By.XPATH, \"/html/body/div[1]/div[3]/header/div/div[1]/div[2]/a\")\n",
    "#href = login_button.get_attribute(\"href\")\n",
    "#driver.get(href)\n",
    "\n",
    "# Press id&password\n",
    "id_box = driver.find_element(By.XPATH, '//*[@id=\"email\"]')\n",
    "id_box.send_keys(\"whdntjd@codingon.co.kr\")\n",
    "pass_box = driver.find_element(By.XPATH, '//*[@id=\"pw\"]')\n",
    "pass_box.send_keys(\"1234\")\n",
    "pass_box.send_keys(Keys.ENTER)\n",
    "#5 seconds wait\n",
    "time.sleep(5)\n",
    "# Load information\n",
    "information = driver.find_element(By.XPATH,'//*[@id=\"__next\"]/div/main/nav/div/div/span[1]')\n",
    "print(information.text)"
   ]
  },
  {
   "cell_type": "code",
   "execution_count": null,
   "id": "4ac7f821-bd37-4b6e-826a-d8300bbaaf38",
   "metadata": {},
   "outputs": [],
   "source": []
  }
 ],
 "metadata": {
  "kernelspec": {
   "display_name": "jupyterlab",
   "language": "python",
   "name": "jupyterlab"
  },
  "language_info": {
   "codemirror_mode": {
    "name": "ipython",
    "version": 3
   },
   "file_extension": ".py",
   "mimetype": "text/x-python",
   "name": "python",
   "nbconvert_exporter": "python",
   "pygments_lexer": "ipython3",
   "version": "3.12.7"
  }
 },
 "nbformat": 4,
 "nbformat_minor": 5
}
