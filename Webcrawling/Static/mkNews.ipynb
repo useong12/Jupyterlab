{
 "cells": [
  {
   "cell_type": "code",
   "execution_count": 55,
   "id": "a06c1698-ad5a-4227-a920-340152c88620",
   "metadata": {},
   "outputs": [],
   "source": [
    "from bs4 import BeautifulSoup\n",
    "import requests\n",
    "\n",
    "html_url = \"https://www.mk.co.kr/news/business/11184002\"\n",
    "res =  requests.get(html_url)\n",
    "soup = BeautifulSoup(res.text,\"html.parser\")"
   ]
  },
  {
   "cell_type": "code",
   "execution_count": 62,
   "id": "0ee21356-71aa-4600-bc64-edf0a08f7154",
   "metadata": {},
   "outputs": [
    {
     "name": "stdout",
     "output_type": "stream",
     "text": [
      "\n",
      "[단독] 대한항공-아시아나 합병 美 최종 승인\n",
      "\n"
     ]
    }
   ],
   "source": [
    "title = soup.select_one(\"h2.news_ttl\")\n",
    "print(title.text)"
   ]
  },
  {
   "cell_type": "code",
   "execution_count": 70,
   "id": "436e2bf0-db3b-462e-83a6-30806b43fab7",
   "metadata": {},
   "outputs": [
    {
     "name": "stdout",
     "output_type": "stream",
     "text": [
      "2024-12-03 06:27:09\n"
     ]
    }
   ],
   "source": [
    "publication = soup.select_one(\".time_area>dl>dd\")\n",
    "print(publication.text)"
   ]
  },
  {
   "cell_type": "code",
   "execution_count": 82,
   "id": "0b47f0c7-830a-4b16-994c-a74607c53053",
   "metadata": {},
   "outputs": [
    {
     "name": "stdout",
     "output_type": "stream",
     "text": [
      "대한항공이 아시아나항공 합병의 마지막 관문을 넘었다.\n",
      "2일 관련업계에 따르면 미국 법무부(DOJ)가 대한항공-아시아나항공 합병을 최종승인했다. 이로써 기업결합을 위한 14개 필수 신고국에 대한 승인을 모두 마쳤다. 2020년 11월 아시아나항공 인수를 공시한 이후 4년여 만이다.\n",
      "통합 대한항공이 출범하면 세계 10위권 대형 항공사가 된다.\n",
      "미국 법무부 심사의 경우 별도로 결과를 발표하지는 않는다. 법무부가 독과점 소송을 제기하지 않으면 승인으로 간주하는데 소송을 제기하지 않기로 했다는 취지의 입장을 밝힌 것으로 전해졌다.\n",
      "대한항공은 지난 달 28일(현지시간) 유럽집행위원회(EC) 최종 승인 직후 이를 미국 법무부에 보고했다. EC는 홈페이지를 통해 대한항공과 아시아나항공 결합을 위한 선결 요건이 모두 충족돼 심사를 종결한다고 발표했다.\n",
      "대한항공은 합병 승인을 위해 티웨이항공에 유럽 4개 노선을 이관했다. 티웨이항공은 지난 8월 이탈리아 로마를 시작으로 프랑스 파리, 스페인 바르셀로나, 독일 프랑크푸르트에 연이어 취항하며 여객부문 합병 조건을 충족했다.\n",
      "화물부문에서는 에어인천이 아시아나항공 화물사업부 매각 기본합의서를 체결했고, 내년 7월에는 합병 에어인천이 출범할 예정이다. 해당 과정을 모두 지켜본 미 법무부도 최종 승인을 결정한 것으로 풀이된다.\n",
      "대한항공은 연내에 아시아나 지분 인수 절차를 매듭지을 계획이다. 이달 20일까지 제3자 배정방식으로 1조5000억 원을 투자해 아시아나항공 주식 1억3157만8947주(지분율 63.9%)를 취득해 아시아나항공을 자회사로 편입한다. 이후 아시아나항공 화물사업부 매각도 마무리 지을 예정이다.\n",
      "대한항공은 아시아나항공을 2년간 자회사로 운영할 계획이다. 이 기간에 조직문화 통합을 위해 인력 교류는 물론, 마일리지 통합, 새로운 기업 이미지(CI) 등 화학적 결합을 위한 작업이 이뤄진다.\n"
     ]
    }
   ],
   "source": [
    "contents = soup.select(\".news_cnt_detail_wrap>p\")\n",
    "for i in contents:\n",
    "    print(i.text.strip())"
   ]
  }
 ],
 "metadata": {
  "kernelspec": {
   "display_name": "jupyterlab",
   "language": "python",
   "name": "jupyterlab"
  },
  "language_info": {
   "codemirror_mode": {
    "name": "ipython",
    "version": 3
   },
   "file_extension": ".py",
   "mimetype": "text/x-python",
   "name": "python",
   "nbconvert_exporter": "python",
   "pygments_lexer": "ipython3",
   "version": "3.12.7"
  }
 },
 "nbformat": 4,
 "nbformat_minor": 5
}
