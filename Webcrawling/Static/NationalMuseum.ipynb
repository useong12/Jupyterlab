{
 "cells": [
  {
   "cell_type": "code",
   "execution_count": 1,
   "id": "8ef8ed9e-ee77-4180-b34f-88741f725e01",
   "metadata": {},
   "outputs": [],
   "source": [
    "from bs4 import BeautifulSoup\n",
    "import requests"
   ]
  },
  {
   "cell_type": "code",
   "execution_count": 2,
   "id": "8cbd091a-47e0-48f4-8c88-593c18f9399c",
   "metadata": {},
   "outputs": [],
   "source": [
    "html_url = \"https://www.museum.go.kr/site/main/home\""
   ]
  },
  {
   "cell_type": "code",
   "execution_count": 3,
   "id": "91115a72-4fde-4994-95a5-7057b6635ed4",
   "metadata": {},
   "outputs": [],
   "source": [
    "res = requests.get(html_url)"
   ]
  },
  {
   "cell_type": "code",
   "execution_count": 4,
   "id": "d79755a7-763a-448e-8a5f-e8ebeb807202",
   "metadata": {},
   "outputs": [],
   "source": [
    "soup = BeautifulSoup(res.text,\"html.parser\")"
   ]
  },
  {
   "cell_type": "code",
   "execution_count": 11,
   "id": "ae863fde-03af-4bca-9767-75519afcfb03",
   "metadata": {},
   "outputs": [
    {
     "name": "stdout",
     "output_type": "stream",
     "text": [
      "[<ul class=\"main-info-area\">\n",
      "<li class=\"info\"><strong class=\"info-tit\"><i></i> 관람시간</strong>\n",
      "<div class=\"info-txt info-time\">\n",
      "<ul>\n",
      "<li><strong>월/화/목/금/일</strong> <span>10:00 ~ 18:00</span></li>\n",
      "<li><strong>수/토</strong> <span>10:00 ~ 21:00</span></li>\n",
      "<li><span>   * 입장 마감은 폐관30분 전까지</span></li>\n",
      "</ul>\n",
      "</div></li>\n",
      "<br/>\n",
      "<li class=\"admission\"><strong class=\"info-tit\"><i></i>\n",
      "\t\t\t\t\t\t관람료</strong>\n",
      "<div class=\"info-txt info-admission\">\n",
      "<ul>\n",
      "<li><strong>무료</strong> <span>특별전시는 유료</span></li>\n",
      "</ul>\n",
      "</div></li>\n",
      "</ul>]\n"
     ]
    }
   ],
   "source": [
    "tour_guide2 = soup.select(\"ul.main-info-area\")\n",
    "print(tour_guide2)"
   ]
  },
  {
   "cell_type": "code",
   "execution_count": 31,
   "id": "3c81a21a-81ab-4c18-8d82-e063c207458f",
   "metadata": {},
   "outputs": [
    {
     "name": "stdout",
     "output_type": "stream",
     "text": [
      "월/화/목/금/일 10:00 ~ 18:00\n",
      "수/토 10:00 ~ 21:00\n",
      "* 입장 마감은 폐관30분 전까지\n"
     ]
    }
   ],
   "source": [
    "time = soup.select(\".info-time>ul>li\")\n",
    "for i in time:\n",
    "    print(i.text.strip())"
   ]
  },
  {
   "cell_type": "code",
   "execution_count": 34,
   "id": "86236a2a-22f8-4da1-8eaf-f35c286329c3",
   "metadata": {},
   "outputs": [
    {
     "name": "stdout",
     "output_type": "stream",
     "text": [
      "무료 특별전시는 유료\n"
     ]
    }
   ],
   "source": [
    "admission = soup.select(\".info-admission>ul>li\")\n",
    "for i in admission:\n",
    "    print(i.text.strip())"
   ]
  }
 ],
 "metadata": {
  "kernelspec": {
   "display_name": "jupyterlab",
   "language": "python",
   "name": "jupyterlab"
  },
  "language_info": {
   "codemirror_mode": {
    "name": "ipython",
    "version": 3
   },
   "file_extension": ".py",
   "mimetype": "text/x-python",
   "name": "python",
   "nbconvert_exporter": "python",
   "pygments_lexer": "ipython3",
   "version": "3.12.7"
  }
 },
 "nbformat": 4,
 "nbformat_minor": 5
}
