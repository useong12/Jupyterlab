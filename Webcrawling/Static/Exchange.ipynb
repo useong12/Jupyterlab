{
 "cells": [
  {
   "cell_type": "code",
   "execution_count": 4,
   "id": "b991ed11-53e6-4ccc-bfde-0b480a920fd9",
   "metadata": {},
   "outputs": [],
   "source": [
    "from bs4 import BeautifulSoup\n",
    "import requests\n",
    "\n",
    "html_url = \"https://finance.naver.com/marketindex/\"\n",
    "res =  requests.get(html_url)\n",
    "soup = BeautifulSoup(res.text,\"html.parser\")"
   ]
  },
  {
   "cell_type": "code",
   "execution_count": 5,
   "id": "5f78988c-15d4-4ec1-829a-25ebd8627c1c",
   "metadata": {},
   "outputs": [
    {
     "name": "stdout",
     "output_type": "stream",
     "text": [
      "USD :  1,410.90\n",
      "JPY(100엔) :  940.26\n",
      "EUR :  1,483.91\n",
      "CNY :  193.70\n"
     ]
    }
   ],
   "source": [
    "usd = soup.select_one(\"a.usd>.point_dn>span.value\")\n",
    "print(\"USD : \",usd.text)\n",
    "jpy = soup.select_one(\"a.jpy>.point_dn>span.value\")\n",
    "print(\"JPY(100엔) : \",jpy.text)\n",
    "eur = soup.select_one(\"a.eur>.point_dn>span.value\")\n",
    "print(\"EUR : \",eur.text)\n",
    "cny = soup.select_one(\"a.cny>.point_dn>span.value\")\n",
    "print(\"CNY : \",cny.text)"
   ]
  },
  {
   "cell_type": "code",
   "execution_count": 82,
   "id": "8d840145-3ec5-4889-b852-8041bd7ec7d5",
   "metadata": {},
   "outputs": [],
   "source": [
    "#298040 001470\n",
    "from bs4 import BeautifulSoup\n",
    "import requests\n",
    "\n",
    "html_url = \"https://finance.naver.com/item/main.naver?code=001470\"\n",
    "res =  requests.get(html_url)\n",
    "soup = BeautifulSoup(res.text,\"html.parser\")"
   ]
  },
  {
   "cell_type": "code",
   "execution_count": 87,
   "id": "c58e5b5b-982c-4935-ac63-d4f207caa6b6",
   "metadata": {},
   "outputs": [
    {
     "name": "stdout",
     "output_type": "stream",
     "text": [
      "종목명 :  삼부토건\n"
     ]
    },
    {
     "ename": "NameError",
     "evalue": "name 'no_up' is not defined",
     "output_type": "error",
     "traceback": [
      "\u001b[1;31m---------------------------------------------------------------------------\u001b[0m",
      "\u001b[1;31mNameError\u001b[0m                                 Traceback (most recent call last)",
      "Cell \u001b[1;32mIn[87], line 3\u001b[0m\n\u001b[0;32m      1\u001b[0m name \u001b[38;5;241m=\u001b[39m soup\u001b[38;5;241m.\u001b[39mselect_one(\u001b[38;5;124m\"\u001b[39m\u001b[38;5;124mh2>a\u001b[39m\u001b[38;5;124m\"\u001b[39m)\n\u001b[0;32m      2\u001b[0m \u001b[38;5;28mprint\u001b[39m(\u001b[38;5;124m\"\u001b[39m\u001b[38;5;124m종목명 : \u001b[39m\u001b[38;5;124m\"\u001b[39m,name\u001b[38;5;241m.\u001b[39mtext)\n\u001b[1;32m----> 3\u001b[0m \u001b[38;5;28;01mif\u001b[39;00m no_up:\n\u001b[0;32m      4\u001b[0m     price \u001b[38;5;241m=\u001b[39m soup\u001b[38;5;241m.\u001b[39mselect_one(\u001b[38;5;124m\"\u001b[39m\u001b[38;5;124m.no_today>.no_up>.blind\u001b[39m\u001b[38;5;124m\"\u001b[39m)\n\u001b[0;32m      5\u001b[0m     \u001b[38;5;28mprint\u001b[39m(\u001b[38;5;124m\"\u001b[39m\u001b[38;5;124m금일 종가 : \u001b[39m\u001b[38;5;124m\"\u001b[39m,price\u001b[38;5;241m.\u001b[39mtext)\n",
      "\u001b[1;31mNameError\u001b[0m: name 'no_up' is not defined"
     ]
    }
   ],
   "source": [
    "name = soup.select_one(\"h2>a\")\n",
    "print(\"종목명 : \",name.text)\n",
    "price = soup.select_one(\".no_today>.no_up>.blind\")\n",
    "print(\"금일 종가 : \",price.text)\n",
    "fluctuation = soup.select_one(\".no_exday>.no_up>.ico\")\n",
    "rise = soup.select_one(\".no_exday>.no_up>.blind\")\n",
    "print(f\"전일 대비 {fluctuation.text} : {rise.text}\")\n",
    "rise_percent = soup.select_one(\".no_exday>.no_up:last-child>.blind\")\n",
    "print(f\"전일 대비 {fluctuation.text}(%) :  {rise_percent.text} %\")"
   ]
  },
  {
   "cell_type": "code",
   "execution_count": 85,
   "id": "6ef03d8f-1ab9-44e2-a795-d197d89e3f72",
   "metadata": {},
   "outputs": [
    {
     "name": "stdout",
     "output_type": "stream",
     "text": [
      "<p class=\"no_today\">\n",
      "<em class=\"no_down\">\n",
      "<span class=\"blind\">952</span>\n",
      "<span class=\"no9\">9</span><span class=\"no5\">5</span><span class=\"no2\">2</span>\n",
      "</em>\n",
      "</p>\n"
     ]
    }
   ],
   "source": [
    "price = soup.select_one(\".no_today\")\n",
    "print(price)"
   ]
  }
 ],
 "metadata": {
  "kernelspec": {
   "display_name": "jupyterlab",
   "language": "python",
   "name": "jupyterlab"
  },
  "language_info": {
   "codemirror_mode": {
    "name": "ipython",
    "version": 3
   },
   "file_extension": ".py",
   "mimetype": "text/x-python",
   "name": "python",
   "nbconvert_exporter": "python",
   "pygments_lexer": "ipython3",
   "version": "3.12.7"
  }
 },
 "nbformat": 4,
 "nbformat_minor": 5
}
