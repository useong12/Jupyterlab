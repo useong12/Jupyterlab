{
 "cells": [
  {
   "cell_type": "code",
   "execution_count": 21,
   "id": "ccc9854c-7134-42a7-b3b4-2c2b565e0a3c",
   "metadata": {},
   "outputs": [],
   "source": [
    "from bs4 import BeautifulSoup\n",
    "import requests\n",
    "\n",
    "html_url = \"https://quotes.toscrape.com/page/2\"\n",
    "res =  requests.get(html_url)\n",
    "soup = BeautifulSoup(res.text,\"html.parser\")"
   ]
  },
  {
   "cell_type": "code",
   "execution_count": 22,
   "id": "7b8f13ca-2b38-40fb-a149-2a5bf27c73fc",
   "metadata": {},
   "outputs": [
    {
     "name": "stdout",
     "output_type": "stream",
     "text": [
      "말한사람 : Marilyn Monroe \n",
      " 내용 : “This life is what you make it. No matter what, you're going to mess up sometimes, it's a universal truth. But the good part is you get to decide how you're going to mess it up. Girls will be your friends - they'll act like it anyway. But just remember, some come, some go. The ones that stay with you through everything - they're your true best friends. Don't let go of them. Also remember, sisters make the best friends in the world. As for lovers, well, they'll come and go too. And baby, I hate to say it, most of them - actually pretty much all of them are going to break your heart, but you can't give up because if you give up, you'll never find your soulmate. You'll never find that half who makes you whole and that goes for everything. Just because you fail once, doesn't mean you're gonna fail at everything. Keep trying, hold on, and always, always, always believe in yourself, because if you don't, then who will, sweetie? So keep your head high, keep your chin up, and most importantly, keep smiling, because life's a beautiful thing and there's so much to smile about.”\n",
      "\n",
      "말한사람 : J.K. Rowling \n",
      " 내용 : “It takes a great deal of bravery to stand up to our enemies, but just as much to stand up to our friends.”\n",
      "\n",
      "말한사람 : Albert Einstein \n",
      " 내용 : “If you can't explain it to a six year old, you don't understand it yourself.”\n",
      "\n",
      "말한사람 : Bob Marley \n",
      " 내용 : “You may not be her first, her last, or her only. She loved before she may love again. But if she loves you now, what else matters? She's not perfect—you aren't either, and the two of you may never be perfect together but if she can make you laugh, cause you to think twice, and admit to being human and making mistakes, hold onto her and give her the most you can. She may not be thinking about you every second of the day, but she will give you a part of her that she knows you can break—her heart. So don't hurt her, don't change her, don't analyze and don't expect more than she can give. Smile when she makes you happy, let her know when she makes you mad, and miss her when she's not there.”\n",
      "\n",
      "말한사람 : Dr. Seuss \n",
      " 내용 : “I like nonsense, it wakes up the brain cells. Fantasy is a necessary ingredient in living.”\n",
      "\n",
      "말한사람 : Douglas Adams \n",
      " 내용 : “I may not have gone where I intended to go, but I think I have ended up where I needed to be.”\n",
      "\n",
      "말한사람 : Elie Wiesel \n",
      " 내용 : “The opposite of love is not hate, it's indifference. The opposite of art is not ugliness, it's indifference. The opposite of faith is not heresy, it's indifference. And the opposite of life is not death, it's indifference.”\n",
      "\n",
      "말한사람 : Friedrich Nietzsche \n",
      " 내용 : “It is not a lack of love, but a lack of friendship that makes unhappy marriages.”\n",
      "\n",
      "말한사람 : Mark Twain \n",
      " 내용 : “Good friends, good books, and a sleepy conscience: this is the ideal life.”\n",
      "\n",
      "말한사람 : Allen Saunders \n",
      " 내용 : “Life is what happens to us while we are making other plans.”\n",
      "\n"
     ]
    }
   ],
   "source": [
    "quote = soup.select(\".text\")\n",
    "speak = soup.select(\".author\")\n",
    "quote = [i.text.strip() for i in quote]\n",
    "speak = [i.text.strip() for i in speak]\n",
    "zipped =  list(zip(quote,speak))\n",
    "for quote,speak in zipped:\n",
    "    print(f\"말한사람 : {speak} \\n 내용 : {quote}\")\n",
    "    print()"
   ]
  },
  {
   "cell_type": "code",
   "execution_count": null,
   "id": "20626345-5448-48bb-bcb9-7472b5515ff6",
   "metadata": {},
   "outputs": [],
   "source": []
  }
 ],
 "metadata": {
  "kernelspec": {
   "display_name": "jupyterlab",
   "language": "python",
   "name": "jupyterlab"
  },
  "language_info": {
   "codemirror_mode": {
    "name": "ipython",
    "version": 3
   },
   "file_extension": ".py",
   "mimetype": "text/x-python",
   "name": "python",
   "nbconvert_exporter": "python",
   "pygments_lexer": "ipython3",
   "version": "3.12.7"
  }
 },
 "nbformat": 4,
 "nbformat_minor": 5
}
