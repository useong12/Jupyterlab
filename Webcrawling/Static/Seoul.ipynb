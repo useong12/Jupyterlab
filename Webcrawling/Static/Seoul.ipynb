{
 "cells": [
  {
   "cell_type": "code",
   "execution_count": 2,
   "id": "e5c1f57a-fd3b-4ecc-8041-68a6a1f2378a",
   "metadata": {},
   "outputs": [],
   "source": [
    "from bs4 import BeautifulSoup\n",
    "import requests"
   ]
  },
  {
   "cell_type": "code",
   "execution_count": 4,
   "id": "d6021d3a-6221-468d-b903-f74e94047106",
   "metadata": {},
   "outputs": [],
   "source": [
    "html_url = \"https://www.seoul.go.kr/main/index.jsp\""
   ]
  },
  {
   "cell_type": "code",
   "execution_count": 9,
   "id": "1bd04843-597d-4844-917b-5611566079d7",
   "metadata": {},
   "outputs": [],
   "source": [
    "res = requests.get(html_url)"
   ]
  },
  {
   "cell_type": "code",
   "execution_count": 12,
   "id": "c666ac7b-9fba-4394-8920-fe5acdccc5df",
   "metadata": {},
   "outputs": [],
   "source": [
    "soup = BeautifulSoup(res.text,\"html.parser\")"
   ]
  },
  {
   "cell_type": "code",
   "execution_count": 29,
   "id": "037fe7a9-42a1-43c7-a8e1-fa2566d92697",
   "metadata": {},
   "outputs": [
    {
     "name": "stdout",
     "output_type": "stream",
     "text": [
      "서울소식\n",
      "시민참여\n",
      "분야별정보\n",
      "서울소개\n",
      "부서안내\n",
      "정보공개\n",
      "응답소\n",
      "로그인\n",
      "로그아웃\n",
      "나의서울\n",
      "전자우편\n"
     ]
    }
   ],
   "source": [
    "all_nav = soup.select(\"nav > ul > li > a\")\n",
    "for i in all_nav:\n",
    "    print(i.text)"
   ]
  }
 ],
 "metadata": {
  "kernelspec": {
   "display_name": "jupyterlab",
   "language": "python",
   "name": "jupyterlab"
  },
  "language_info": {
   "codemirror_mode": {
    "name": "ipython",
    "version": 3
   },
   "file_extension": ".py",
   "mimetype": "text/x-python",
   "name": "python",
   "nbconvert_exporter": "python",
   "pygments_lexer": "ipython3",
   "version": "3.12.7"
  }
 },
 "nbformat": 4,
 "nbformat_minor": 5
}
