{
 "cells": [
  {
   "cell_type": "code",
   "execution_count": 1,
   "id": "ca099802-562a-460e-8ff5-885cba0da50d",
   "metadata": {},
   "outputs": [],
   "source": [
    "from bs4 import BeautifulSoup\n",
    "import requests"
   ]
  },
  {
   "cell_type": "code",
   "execution_count": 4,
   "id": "bea21373-f939-4a0c-b05c-a9dfd4831015",
   "metadata": {},
   "outputs": [],
   "source": [
    "html_url = \"https://news.kbs.co.kr/news/pc/view/view.do?ncd=8117340\"\n",
    "res = requests.get(html_url)\n",
    "soup = BeautifulSoup(res.text,\"html.parser\")"
   ]
  },
  {
   "cell_type": "code",
   "execution_count": 26,
   "id": "23653737-4aa1-4f01-83b0-f11be922f4c0",
   "metadata": {},
   "outputs": [
    {
     "name": "stdout",
     "output_type": "stream",
     "text": [
      "제목 :  “AI 안전 연구, 통제 기술 개발해야”…전담 기관 출범\n"
     ]
    }
   ],
   "source": [
    "title = soup.select_one(\"h4.headline-title\")\n",
    "print(\"제목 : \",title.text.strip())"
   ]
  },
  {
   "cell_type": "code",
   "execution_count": 24,
   "id": "91bceb05-de95-4507-9bbb-ba61c0e012fd",
   "metadata": {},
   "outputs": [
    {
     "name": "stdout",
     "output_type": "stream",
     "text": [
      "내용 :  [앵커] 인공지능, AI는 우리 삶을 편리하게 하지만, 통제되지 않는 AI는 큰 위협이 되기도 합니다. AI를 안전하게 활용하자는 국제적 연대 속에 국내에도 전담 연구 기관이 문을 열었습니다. 보도에 지형철 기자입니다. [리포트] 미국 대선 당시 해리스와 트럼프 두 후보가  다정하게 걷는 모습. 연예인 얼굴을 도용한 가짜 영상. 모두, AI 영상 합성 기술을 악용한 사롑니다. 이 같은 악의적 이용을 막기 위해, 영국과 미국, 일본 같은 선진국들은 AI 안전 연구소를 운영 중입니다. 이 연구소를 통해 AI 위험성을 전달하고 안전 평가 기준도 만듭니다. 연구소들끼리 협력하기도 합니다. [올리버 일럿/영국 AI안전연구소장  : \"AI는 우리가 직면한 큰 과제 중 하나이며, 이 기술을 안전하게 만들기 위해 각국 정부가 협력하는 것이 필수적입니다.\"] 한국에도  AI 안전 연구소가 문을 열었습니다. AI의 오용이나  기술적 한계 상황에서 생길 수 있는 다양한 위험에 전문적으로 대응할 수 있게 됐습니다. AI 기업이 맞닥뜨릴 수 있는  각종 위험도 미리 찾아내 대비합니다. [김명주/한국AI안전연구소 소장 : \"기업에서 제시한 부분들을 같이 풀어가면서 어떤 위험들이 있는지 측정하고, 측정한 부분들을 제거하거나 최소화하는 역할들을 앞으로 계속해 나갈…\" AI 안전 연구소는 또 인증이나 규제에 대한 해외 기관과 협의를 통해 우리 AI 기업의 해외 시장 진출을 도울 예정입니다. KBS 뉴스 지형철입니다. 촬영기자:신동곤/영상편집:박은주/그래픽:김석훈/화면제공:과학기술정보통신부\n"
     ]
    }
   ],
   "source": [
    "contents = soup.select_one(\"#cont_newstext\")\n",
    "print(\"내용 : \",contents.text.strip())"
   ]
  },
  {
   "cell_type": "code",
   "execution_count": null,
   "id": "75fed0b2-e58e-4445-a88f-a134be35e577",
   "metadata": {},
   "outputs": [],
   "source": []
  }
 ],
 "metadata": {
  "kernelspec": {
   "display_name": "jupyterlab",
   "language": "python",
   "name": "jupyterlab"
  },
  "language_info": {
   "codemirror_mode": {
    "name": "ipython",
    "version": 3
   },
   "file_extension": ".py",
   "mimetype": "text/x-python",
   "name": "python",
   "nbconvert_exporter": "python",
   "pygments_lexer": "ipython3",
   "version": "3.12.7"
  }
 },
 "nbformat": 4,
 "nbformat_minor": 5
}
