{
 "cells": [
  {
   "cell_type": "code",
   "execution_count": 37,
   "id": "68883a4c-19f6-41c7-8ce1-47c8d8bce47f",
   "metadata": {},
   "outputs": [],
   "source": [
    "from bs4 import BeautifulSoup\n",
    "import requests"
   ]
  },
  {
   "cell_type": "code",
   "execution_count": 9,
   "id": "de4083ac-e433-4178-9dd1-b752a0612439",
   "metadata": {},
   "outputs": [],
   "source": [
    "html_str = '''\n",
    "<html>\n",
    "    <body>\n",
    "        <div id = \"content\">\n",
    "            <ul class = 'industry'>\n",
    "                <li>인공지능</li>\n",
    "                <li>빅데이터</li>\n",
    "                <li>스마트팩토리</li>\n",
    "            </ul>\n",
    "            <ul class = 'comlang'>\n",
    "                <li>Python</li>\n",
    "                <li>C++</li>\n",
    "                <li>Javascript</li>\n",
    "            </ul>\n",
    "        </div>\n",
    "    </body>\n",
    "</html>\n",
    "'''\n",
    "soup = BeautifulSoup(html_str, \"html.parser\")\n",
    "first_ul = soup.find('ul') #처음 만나는 클래스 html을 저장"
   ]
  },
  {
   "cell_type": "code",
   "execution_count": 13,
   "id": "c436b23d-719e-4f9e-b4f0-20e9873f17e1",
   "metadata": {},
   "outputs": [
    {
     "name": "stdout",
     "output_type": "stream",
     "text": [
      "<ul class=\"industry\">\n",
      "<li>인공지능</li>\n",
      "<li>빅데이터</li>\n",
      "<li>스마트팩토리</li>\n",
      "</ul>\n",
      "\n",
      "인공지능\n",
      "빅데이터\n",
      "스마트팩토리\n",
      "\n"
     ]
    }
   ],
   "source": [
    "print(first_ul) #html전체를 출력\n",
    "print(first_ul.text) #태그 없이 텍스트 출력"
   ]
  },
  {
   "cell_type": "code",
   "execution_count": 19,
   "id": "53642ad6-c923-4339-9e88-d096352e19b4",
   "metadata": {},
   "outputs": [
    {
     "name": "stdout",
     "output_type": "stream",
     "text": [
      "\n",
      "Python\n",
      "C++\n",
      "Javascript\n",
      "\n"
     ]
    }
   ],
   "source": [
    "all_ul = soup.find_all('ul')\n",
    "print(all_ul[1].text) #find_all의 경우 리스트 형태로 반환하기 때문에 전체는 text형태로 반환 불가"
   ]
  },
  {
   "cell_type": "code",
   "execution_count": 24,
   "id": "d47a3ef0-2c57-4a11-af16-69f7922d02d8",
   "metadata": {},
   "outputs": [
    {
     "name": "stdout",
     "output_type": "stream",
     "text": [
      "\n",
      "Python\n",
      "C++\n",
      "Javascript\n",
      "\n"
     ]
    }
   ],
   "source": [
    "#선택자를 이용해 찾는 방법 (soup.find('ul',attr={'class':\"(속성명)\"})\n",
    "class_ul = soup.find('ul',attrs={'class':\"comlang\"})\n",
    "print(class_ul.text)"
   ]
  },
  {
   "cell_type": "code",
   "execution_count": 27,
   "id": "b5e48caa-0326-4911-be9a-c04fb89b6fbb",
   "metadata": {},
   "outputs": [
    {
     "name": "stdout",
     "output_type": "stream",
     "text": [
      "\n",
      "인공지능\n",
      "빅데이터\n",
      "스마트팩토리\n",
      "\n"
     ]
    }
   ],
   "source": [
    "first_ul = (soup.select_one(\"ul.industry\")) #css 선택자를 이용해서 출력하는 방법\n",
    "print(first_ul.text)"
   ]
  },
  {
   "cell_type": "code",
   "execution_count": 36,
   "id": "29d73709-2ca4-48f9-a654-246b36ca17cf",
   "metadata": {},
   "outputs": [
    {
     "name": "stdout",
     "output_type": "stream",
     "text": [
      "[<ul class=\"industry\">\n",
      "<li>인공지능</li>\n",
      "<li>빅데이터</li>\n",
      "<li>스마트팩토리</li>\n",
      "</ul>, <ul class=\"comlang\">\n",
      "<li>Python</li>\n",
      "<li>C++</li>\n",
      "<li>Javascript</li>\n",
      "</ul>]\n",
      "\n",
      "인공지능\n",
      "빅데이터\n",
      "스마트팩토리\n",
      "\n"
     ]
    }
   ],
   "source": [
    "all_ul = soup.select(\"#content > ul\")\n",
    "print(all_ul)\n",
    "print(all_ul[0].text)"
   ]
  }
 ],
 "metadata": {
  "kernelspec": {
   "display_name": "Python 3 (ipykernel)",
   "language": "python",
   "name": "python3"
  },
  "language_info": {
   "codemirror_mode": {
    "name": "ipython",
    "version": 3
   },
   "file_extension": ".py",
   "mimetype": "text/x-python",
   "name": "python",
   "nbconvert_exporter": "python",
   "pygments_lexer": "ipython3",
   "version": "3.12.7"
  }
 },
 "nbformat": 4,
 "nbformat_minor": 5
}
