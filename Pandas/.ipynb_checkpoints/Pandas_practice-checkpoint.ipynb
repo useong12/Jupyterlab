{
 "cells": [
  {
   "cell_type": "code",
   "execution_count": 1,
   "id": "dbf21ef0-9e1a-4aae-8c02-4d28956bb087",
   "metadata": {},
   "outputs": [],
   "source": [
    "import pandas as pd"
   ]
  },
  {
   "cell_type": "code",
   "execution_count": 2,
   "id": "2dbc90a4-42fb-4b09-b6c8-fa8c3d095da4",
   "metadata": {},
   "outputs": [
    {
     "data": {
      "text/plain": [
       "1    철수\n",
       "2    영희\n",
       "3    장군\n",
       "Name: 감독, dtype: object"
      ]
     },
     "execution_count": 2,
     "metadata": {},
     "output_type": "execute_result"
    }
   ],
   "source": [
    "director = [\"철수\",\"영희\",\"장군\"]\n",
    "director = pd.Series(director,name=\"감독\",index=[1,2,3])\n",
    "director"
   ]
  },
  {
   "cell_type": "code",
   "execution_count": 3,
   "id": "d59e14aa-7c31-44f1-b90f-68edbdb71aad",
   "metadata": {},
   "outputs": [
    {
     "data": {
      "text/plain": [
       "1    강희\n",
       "2    동욱\n",
       "3    재한\n",
       "Name: 조감독, dtype: object"
      ]
     },
     "execution_count": 3,
     "metadata": {},
     "output_type": "execute_result"
    }
   ],
   "source": [
    "sub = [\"강희\",\"동욱\",\"재한\"]\n",
    "sub = pd.Series(sub,name=\"조감독\",index=[1,2,3])\n",
    "sub"
   ]
  },
  {
   "cell_type": "code",
   "execution_count": 4,
   "id": "593eb95b-ff4f-48f9-a6f0-ae16e49afe42",
   "metadata": {},
   "outputs": [
    {
     "data": {
      "text/html": [
       "<div>\n",
       "<style scoped>\n",
       "    .dataframe tbody tr th:only-of-type {\n",
       "        vertical-align: middle;\n",
       "    }\n",
       "\n",
       "    .dataframe tbody tr th {\n",
       "        vertical-align: top;\n",
       "    }\n",
       "\n",
       "    .dataframe thead th {\n",
       "        text-align: right;\n",
       "    }\n",
       "</style>\n",
       "<table border=\"1\" class=\"dataframe\">\n",
       "  <thead>\n",
       "    <tr style=\"text-align: right;\">\n",
       "      <th></th>\n",
       "      <th>감독</th>\n",
       "      <th>조감독</th>\n",
       "    </tr>\n",
       "  </thead>\n",
       "  <tbody>\n",
       "    <tr>\n",
       "      <th>1</th>\n",
       "      <td>철수</td>\n",
       "      <td>강희</td>\n",
       "    </tr>\n",
       "    <tr>\n",
       "      <th>2</th>\n",
       "      <td>영희</td>\n",
       "      <td>동욱</td>\n",
       "    </tr>\n",
       "    <tr>\n",
       "      <th>3</th>\n",
       "      <td>장군</td>\n",
       "      <td>재한</td>\n",
       "    </tr>\n",
       "  </tbody>\n",
       "</table>\n",
       "</div>"
      ],
      "text/plain": [
       "   감독 조감독\n",
       "1  철수  강희\n",
       "2  영희  동욱\n",
       "3  장군  재한"
      ]
     },
     "execution_count": 4,
     "metadata": {},
     "output_type": "execute_result"
    }
   ],
   "source": [
    "df = pd.DataFrame({\n",
    "    \"감독\" : director,\n",
    "    \"조감독\" : sub})\n",
    "df"
   ]
  },
  {
   "cell_type": "code",
   "execution_count": 5,
   "id": "7232a405-04ec-4dc5-97a3-5d452136f0af",
   "metadata": {},
   "outputs": [
    {
     "data": {
      "text/html": [
       "<div>\n",
       "<style scoped>\n",
       "    .dataframe tbody tr th:only-of-type {\n",
       "        vertical-align: middle;\n",
       "    }\n",
       "\n",
       "    .dataframe tbody tr th {\n",
       "        vertical-align: top;\n",
       "    }\n",
       "\n",
       "    .dataframe thead th {\n",
       "        text-align: right;\n",
       "    }\n",
       "</style>\n",
       "<table border=\"1\" class=\"dataframe\">\n",
       "  <thead>\n",
       "    <tr style=\"text-align: right;\">\n",
       "      <th></th>\n",
       "      <th>감독</th>\n",
       "      <th>조감독</th>\n",
       "      <th>영화 제목</th>\n",
       "    </tr>\n",
       "  </thead>\n",
       "  <tbody>\n",
       "    <tr>\n",
       "      <th>1</th>\n",
       "      <td>철수</td>\n",
       "      <td>강희</td>\n",
       "      <td>7번방의 선물</td>\n",
       "    </tr>\n",
       "    <tr>\n",
       "      <th>2</th>\n",
       "      <td>영희</td>\n",
       "      <td>동욱</td>\n",
       "      <td>광해</td>\n",
       "    </tr>\n",
       "    <tr>\n",
       "      <th>3</th>\n",
       "      <td>장군</td>\n",
       "      <td>재한</td>\n",
       "      <td>서울의 봄</td>\n",
       "    </tr>\n",
       "  </tbody>\n",
       "</table>\n",
       "</div>"
      ],
      "text/plain": [
       "   감독 조감독    영화 제목\n",
       "1  철수  강희  7번방의 선물\n",
       "2  영희  동욱       광해\n",
       "3  장군  재한    서울의 봄"
      ]
     },
     "execution_count": 5,
     "metadata": {},
     "output_type": "execute_result"
    }
   ],
   "source": [
    "df[\"영화 제목\"] = [\"7번방의 선물\",\"광해\",\"서울의 봄\"]\n",
    "df"
   ]
  },
  {
   "cell_type": "code",
   "execution_count": 6,
   "id": "52cbf21c-b925-437b-bf4b-9cded6c09362",
   "metadata": {},
   "outputs": [
    {
     "data": {
      "text/html": [
       "<div>\n",
       "<style scoped>\n",
       "    .dataframe tbody tr th:only-of-type {\n",
       "        vertical-align: middle;\n",
       "    }\n",
       "\n",
       "    .dataframe tbody tr th {\n",
       "        vertical-align: top;\n",
       "    }\n",
       "\n",
       "    .dataframe thead th {\n",
       "        text-align: right;\n",
       "    }\n",
       "</style>\n",
       "<table border=\"1\" class=\"dataframe\">\n",
       "  <thead>\n",
       "    <tr style=\"text-align: right;\">\n",
       "      <th></th>\n",
       "      <th>감독</th>\n",
       "      <th>조감독</th>\n",
       "      <th>영화 제목</th>\n",
       "    </tr>\n",
       "  </thead>\n",
       "  <tbody>\n",
       "    <tr>\n",
       "      <th>0</th>\n",
       "      <td>철수</td>\n",
       "      <td>강희</td>\n",
       "      <td>7번방의 선물</td>\n",
       "    </tr>\n",
       "    <tr>\n",
       "      <th>1</th>\n",
       "      <td>영희</td>\n",
       "      <td>동욱</td>\n",
       "      <td>광해</td>\n",
       "    </tr>\n",
       "    <tr>\n",
       "      <th>2</th>\n",
       "      <td>장군</td>\n",
       "      <td>재한</td>\n",
       "      <td>서울의 봄</td>\n",
       "    </tr>\n",
       "    <tr>\n",
       "      <th>3</th>\n",
       "      <td>준범</td>\n",
       "      <td>혜성</td>\n",
       "      <td>미이라</td>\n",
       "    </tr>\n",
       "  </tbody>\n",
       "</table>\n",
       "</div>"
      ],
      "text/plain": [
       "   감독 조감독    영화 제목\n",
       "0  철수  강희  7번방의 선물\n",
       "1  영희  동욱       광해\n",
       "2  장군  재한    서울의 봄\n",
       "3  준범  혜성      미이라"
      ]
     },
     "execution_count": 6,
     "metadata": {},
     "output_type": "execute_result"
    }
   ],
   "source": [
    "new_data = {\"감독\":\"준범\",\"조감독\":\"혜성\",\"영화 제목\":\"미이라\"}\n",
    "df = pd.concat([df,pd.DataFrame([new_data])],ignore_index=True)\n",
    "df"
   ]
  },
  {
   "cell_type": "code",
   "execution_count": 7,
   "id": "e0a027fe-9088-4c16-8021-07371d15740f",
   "metadata": {},
   "outputs": [
    {
     "data": {
      "text/html": [
       "<div>\n",
       "<style scoped>\n",
       "    .dataframe tbody tr th:only-of-type {\n",
       "        vertical-align: middle;\n",
       "    }\n",
       "\n",
       "    .dataframe tbody tr th {\n",
       "        vertical-align: top;\n",
       "    }\n",
       "\n",
       "    .dataframe thead th {\n",
       "        text-align: right;\n",
       "    }\n",
       "</style>\n",
       "<table border=\"1\" class=\"dataframe\">\n",
       "  <thead>\n",
       "    <tr style=\"text-align: right;\">\n",
       "      <th></th>\n",
       "      <th>감독</th>\n",
       "      <th>조감독</th>\n",
       "      <th>영화 제목</th>\n",
       "    </tr>\n",
       "  </thead>\n",
       "  <tbody>\n",
       "    <tr>\n",
       "      <th>0</th>\n",
       "      <td>철수</td>\n",
       "      <td>강희</td>\n",
       "      <td>7번방의 선물</td>\n",
       "    </tr>\n",
       "    <tr>\n",
       "      <th>1</th>\n",
       "      <td>영희</td>\n",
       "      <td>동욱</td>\n",
       "      <td>광해</td>\n",
       "    </tr>\n",
       "    <tr>\n",
       "      <th>2</th>\n",
       "      <td>장군</td>\n",
       "      <td>재한</td>\n",
       "      <td>서울의 봄</td>\n",
       "    </tr>\n",
       "    <tr>\n",
       "      <th>3</th>\n",
       "      <td>준범</td>\n",
       "      <td>혜성</td>\n",
       "      <td>미이라</td>\n",
       "    </tr>\n",
       "    <tr>\n",
       "      <th>4</th>\n",
       "      <td>준섭</td>\n",
       "      <td>태영</td>\n",
       "      <td>내마그</td>\n",
       "    </tr>\n",
       "  </tbody>\n",
       "</table>\n",
       "</div>"
      ],
      "text/plain": [
       "   감독 조감독    영화 제목\n",
       "0  철수  강희  7번방의 선물\n",
       "1  영희  동욱       광해\n",
       "2  장군  재한    서울의 봄\n",
       "3  준범  혜성      미이라\n",
       "4  준섭  태영      내마그"
      ]
     },
     "execution_count": 7,
     "metadata": {},
     "output_type": "execute_result"
    }
   ],
   "source": [
    "df = pd.concat([df,pd.DataFrame([{\"감독\":\"준섭\",\"조감독\":\"태영\",\"영화 제목\":\"내마그\"}])],ignore_index=True)\n",
    "df"
   ]
  },
  {
   "cell_type": "code",
   "execution_count": 8,
   "id": "9e91c92e-6fb2-4cad-bd51-1218e3344f6d",
   "metadata": {},
   "outputs": [
    {
     "data": {
      "text/html": [
       "<div>\n",
       "<style scoped>\n",
       "    .dataframe tbody tr th:only-of-type {\n",
       "        vertical-align: middle;\n",
       "    }\n",
       "\n",
       "    .dataframe tbody tr th {\n",
       "        vertical-align: top;\n",
       "    }\n",
       "\n",
       "    .dataframe thead th {\n",
       "        text-align: right;\n",
       "    }\n",
       "</style>\n",
       "<table border=\"1\" class=\"dataframe\">\n",
       "  <thead>\n",
       "    <tr style=\"text-align: right;\">\n",
       "      <th></th>\n",
       "      <th>감독</th>\n",
       "      <th>조감독</th>\n",
       "      <th>영화</th>\n",
       "    </tr>\n",
       "  </thead>\n",
       "  <tbody>\n",
       "    <tr>\n",
       "      <th>0</th>\n",
       "      <td>철수</td>\n",
       "      <td>강희</td>\n",
       "      <td>7번방의 선물</td>\n",
       "    </tr>\n",
       "    <tr>\n",
       "      <th>1</th>\n",
       "      <td>영희</td>\n",
       "      <td>동욱</td>\n",
       "      <td>광해</td>\n",
       "    </tr>\n",
       "    <tr>\n",
       "      <th>2</th>\n",
       "      <td>장군</td>\n",
       "      <td>재한</td>\n",
       "      <td>서울의 봄</td>\n",
       "    </tr>\n",
       "    <tr>\n",
       "      <th>3</th>\n",
       "      <td>준범</td>\n",
       "      <td>혜성</td>\n",
       "      <td>미이라</td>\n",
       "    </tr>\n",
       "    <tr>\n",
       "      <th>4</th>\n",
       "      <td>준섭</td>\n",
       "      <td>태영</td>\n",
       "      <td>내마그</td>\n",
       "    </tr>\n",
       "  </tbody>\n",
       "</table>\n",
       "</div>"
      ],
      "text/plain": [
       "   감독 조감독       영화\n",
       "0  철수  강희  7번방의 선물\n",
       "1  영희  동욱       광해\n",
       "2  장군  재한    서울의 봄\n",
       "3  준범  혜성      미이라\n",
       "4  준섭  태영      내마그"
      ]
     },
     "execution_count": 8,
     "metadata": {},
     "output_type": "execute_result"
    }
   ],
   "source": [
    "df.rename(columns = {\"영화 제목\":\"영화\"}, inplace = True)\n",
    "df"
   ]
  },
  {
   "cell_type": "code",
   "execution_count": 9,
   "id": "95fe29e3-7cea-48e1-8858-c27a5784475f",
   "metadata": {},
   "outputs": [
    {
     "data": {
      "text/html": [
       "<div>\n",
       "<style scoped>\n",
       "    .dataframe tbody tr th:only-of-type {\n",
       "        vertical-align: middle;\n",
       "    }\n",
       "\n",
       "    .dataframe tbody tr th {\n",
       "        vertical-align: top;\n",
       "    }\n",
       "\n",
       "    .dataframe thead th {\n",
       "        text-align: right;\n",
       "    }\n",
       "</style>\n",
       "<table border=\"1\" class=\"dataframe\">\n",
       "  <thead>\n",
       "    <tr style=\"text-align: right;\">\n",
       "      <th></th>\n",
       "      <th>감독</th>\n",
       "      <th>조감독</th>\n",
       "      <th>영화제목</th>\n",
       "    </tr>\n",
       "  </thead>\n",
       "  <tbody>\n",
       "    <tr>\n",
       "      <th>0</th>\n",
       "      <td>철수</td>\n",
       "      <td>강희</td>\n",
       "      <td>7번방의 선물</td>\n",
       "    </tr>\n",
       "    <tr>\n",
       "      <th>1</th>\n",
       "      <td>영희</td>\n",
       "      <td>동욱</td>\n",
       "      <td>광해</td>\n",
       "    </tr>\n",
       "    <tr>\n",
       "      <th>2</th>\n",
       "      <td>장군</td>\n",
       "      <td>재한</td>\n",
       "      <td>서울의 봄</td>\n",
       "    </tr>\n",
       "    <tr>\n",
       "      <th>3</th>\n",
       "      <td>준범</td>\n",
       "      <td>혜성</td>\n",
       "      <td>미이라</td>\n",
       "    </tr>\n",
       "    <tr>\n",
       "      <th>4</th>\n",
       "      <td>준섭</td>\n",
       "      <td>태영</td>\n",
       "      <td>내마그</td>\n",
       "    </tr>\n",
       "  </tbody>\n",
       "</table>\n",
       "</div>"
      ],
      "text/plain": [
       "   감독 조감독     영화제목\n",
       "0  철수  강희  7번방의 선물\n",
       "1  영희  동욱       광해\n",
       "2  장군  재한    서울의 봄\n",
       "3  준범  혜성      미이라\n",
       "4  준섭  태영      내마그"
      ]
     },
     "execution_count": 9,
     "metadata": {},
     "output_type": "execute_result"
    }
   ],
   "source": [
    "df.rename(columns={\"영화\":\"영화제목\"},inplace = True)\n",
    "df"
   ]
  },
  {
   "cell_type": "code",
   "execution_count": 14,
   "id": "43776744-2df8-45f3-a6d1-5932be0e9b00",
   "metadata": {},
   "outputs": [
    {
     "data": {
      "text/html": [
       "<div>\n",
       "<style scoped>\n",
       "    .dataframe tbody tr th:only-of-type {\n",
       "        vertical-align: middle;\n",
       "    }\n",
       "\n",
       "    .dataframe tbody tr th {\n",
       "        vertical-align: top;\n",
       "    }\n",
       "\n",
       "    .dataframe thead th {\n",
       "        text-align: right;\n",
       "    }\n",
       "</style>\n",
       "<table border=\"1\" class=\"dataframe\">\n",
       "  <thead>\n",
       "    <tr style=\"text-align: right;\">\n",
       "      <th></th>\n",
       "      <th>감독</th>\n",
       "      <th>조감독</th>\n",
       "      <th>영화제목</th>\n",
       "    </tr>\n",
       "  </thead>\n",
       "  <tbody>\n",
       "    <tr>\n",
       "      <th>0</th>\n",
       "      <td>철수</td>\n",
       "      <td>강희</td>\n",
       "      <td>배트맨</td>\n",
       "    </tr>\n",
       "    <tr>\n",
       "      <th>1</th>\n",
       "      <td>영희</td>\n",
       "      <td>동욱</td>\n",
       "      <td>광해</td>\n",
       "    </tr>\n",
       "    <tr>\n",
       "      <th>2</th>\n",
       "      <td>장군</td>\n",
       "      <td>재한</td>\n",
       "      <td>서울의 봄</td>\n",
       "    </tr>\n",
       "    <tr>\n",
       "      <th>3</th>\n",
       "      <td>준범</td>\n",
       "      <td>혜성</td>\n",
       "      <td>미이라</td>\n",
       "    </tr>\n",
       "    <tr>\n",
       "      <th>4</th>\n",
       "      <td>준섭</td>\n",
       "      <td>태영</td>\n",
       "      <td>내마그</td>\n",
       "    </tr>\n",
       "  </tbody>\n",
       "</table>\n",
       "</div>"
      ],
      "text/plain": [
       "   감독 조감독   영화제목\n",
       "0  철수  강희    배트맨\n",
       "1  영희  동욱     광해\n",
       "2  장군  재한  서울의 봄\n",
       "3  준범  혜성    미이라\n",
       "4  준섭  태영    내마그"
      ]
     },
     "execution_count": 14,
     "metadata": {},
     "output_type": "execute_result"
    }
   ],
   "source": [
    "df.loc[df[\"감독\"]==\"철수\",\"영화제목\"] = \"배트맨\"\n",
    "df"
   ]
  },
  {
   "cell_type": "code",
   "execution_count": 21,
   "id": "f6e2aa3c-0f24-4c13-ab41-b111ab04c5be",
   "metadata": {},
   "outputs": [
    {
     "data": {
      "text/html": [
       "<div>\n",
       "<style scoped>\n",
       "    .dataframe tbody tr th:only-of-type {\n",
       "        vertical-align: middle;\n",
       "    }\n",
       "\n",
       "    .dataframe tbody tr th {\n",
       "        vertical-align: top;\n",
       "    }\n",
       "\n",
       "    .dataframe thead th {\n",
       "        text-align: right;\n",
       "    }\n",
       "</style>\n",
       "<table border=\"1\" class=\"dataframe\">\n",
       "  <thead>\n",
       "    <tr style=\"text-align: right;\">\n",
       "      <th></th>\n",
       "      <th>감독</th>\n",
       "      <th>조감독</th>\n",
       "      <th>영화제목</th>\n",
       "    </tr>\n",
       "  </thead>\n",
       "  <tbody>\n",
       "    <tr>\n",
       "      <th>0</th>\n",
       "      <td>윤진</td>\n",
       "      <td>강희</td>\n",
       "      <td>배트맨</td>\n",
       "    </tr>\n",
       "    <tr>\n",
       "      <th>1</th>\n",
       "      <td>원석</td>\n",
       "      <td>동욱</td>\n",
       "      <td>광해</td>\n",
       "    </tr>\n",
       "    <tr>\n",
       "      <th>2</th>\n",
       "      <td>윤태</td>\n",
       "      <td>재한</td>\n",
       "      <td>서울의 봄</td>\n",
       "    </tr>\n",
       "    <tr>\n",
       "      <th>3</th>\n",
       "      <td>준범</td>\n",
       "      <td>혜성</td>\n",
       "      <td>미이라</td>\n",
       "    </tr>\n",
       "    <tr>\n",
       "      <th>4</th>\n",
       "      <td>준섭</td>\n",
       "      <td>태영</td>\n",
       "      <td>내마그</td>\n",
       "    </tr>\n",
       "  </tbody>\n",
       "</table>\n",
       "</div>"
      ],
      "text/plain": [
       "   감독 조감독   영화제목\n",
       "0  윤진  강희    배트맨\n",
       "1  원석  동욱     광해\n",
       "2  윤태  재한  서울의 봄\n",
       "3  준범  혜성    미이라\n",
       "4  준섭  태영    내마그"
      ]
     },
     "execution_count": 21,
     "metadata": {},
     "output_type": "execute_result"
    }
   ],
   "source": [
    "df.loc[df[\"감독\"]==\"철수\",\"감독\"]=\"윤진\"\n",
    "df.loc[df[\"감독\"]==\"영희\",\"감독\"]=\"원석\"\n",
    "df.loc[df[\"감독\"]==\"장군\",\"감독\"]=\"윤태\"\n",
    "df"
   ]
  },
  {
   "cell_type": "code",
   "execution_count": 26,
   "id": "f27fb592-c6d9-4ee9-bdc0-84f0e2725467",
   "metadata": {},
   "outputs": [
    {
     "data": {
      "text/html": [
       "<div>\n",
       "<style scoped>\n",
       "    .dataframe tbody tr th:only-of-type {\n",
       "        vertical-align: middle;\n",
       "    }\n",
       "\n",
       "    .dataframe tbody tr th {\n",
       "        vertical-align: top;\n",
       "    }\n",
       "\n",
       "    .dataframe thead th {\n",
       "        text-align: right;\n",
       "    }\n",
       "</style>\n",
       "<table border=\"1\" class=\"dataframe\">\n",
       "  <thead>\n",
       "    <tr style=\"text-align: right;\">\n",
       "      <th></th>\n",
       "      <th>감독</th>\n",
       "      <th>조감독</th>\n",
       "      <th>영화제목</th>\n",
       "    </tr>\n",
       "  </thead>\n",
       "  <tbody>\n",
       "    <tr>\n",
       "      <th>첫번째</th>\n",
       "      <td>윤진</td>\n",
       "      <td>강희</td>\n",
       "      <td>배트맨</td>\n",
       "    </tr>\n",
       "    <tr>\n",
       "      <th>두번째</th>\n",
       "      <td>원석</td>\n",
       "      <td>동욱</td>\n",
       "      <td>광해</td>\n",
       "    </tr>\n",
       "    <tr>\n",
       "      <th>세번째</th>\n",
       "      <td>윤태</td>\n",
       "      <td>재한</td>\n",
       "      <td>서울의 봄</td>\n",
       "    </tr>\n",
       "    <tr>\n",
       "      <th>네번째</th>\n",
       "      <td>준범</td>\n",
       "      <td>혜성</td>\n",
       "      <td>미이라</td>\n",
       "    </tr>\n",
       "    <tr>\n",
       "      <th>다섯번째</th>\n",
       "      <td>준섭</td>\n",
       "      <td>태영</td>\n",
       "      <td>내마그</td>\n",
       "    </tr>\n",
       "  </tbody>\n",
       "</table>\n",
       "</div>"
      ],
      "text/plain": [
       "      감독 조감독   영화제목\n",
       "첫번째   윤진  강희    배트맨\n",
       "두번째   원석  동욱     광해\n",
       "세번째   윤태  재한  서울의 봄\n",
       "네번째   준범  혜성    미이라\n",
       "다섯번째  준섭  태영    내마그"
      ]
     },
     "execution_count": 26,
     "metadata": {},
     "output_type": "execute_result"
    }
   ],
   "source": [
    "df.rename(index={0:\"1번째\",1:\"2번째\",2:\"3번째\",3:\"4번째\",4:\"5번째\"},inplace=True)\n",
    "df"
   ]
  }
 ],
 "metadata": {
  "kernelspec": {
   "display_name": "Python 3 (ipykernel)",
   "language": "python",
   "name": "python3"
  },
  "language_info": {
   "codemirror_mode": {
    "name": "ipython",
    "version": 3
   },
   "file_extension": ".py",
   "mimetype": "text/x-python",
   "name": "python",
   "nbconvert_exporter": "python",
   "pygments_lexer": "ipython3",
   "version": "3.12.7"
  }
 },
 "nbformat": 4,
 "nbformat_minor": 5
}
