{
 "cells": [
  {
   "cell_type": "code",
   "execution_count": 2,
   "id": "0318371a-9326-4d07-98c4-fbe26a6a60aa",
   "metadata": {},
   "outputs": [
    {
     "name": "stdout",
     "output_type": "stream",
     "text": [
      "C:\\Users\\ws060\\Pandas\n"
     ]
    }
   ],
   "source": [
    "import pandas as pd\n",
    "import os\n",
    "print(os.getcwd())"
   ]
  },
  {
   "cell_type": "code",
   "execution_count": 4,
   "id": "4ab8687e-3d47-43c1-bcc0-40db2ac91820",
   "metadata": {},
   "outputs": [],
   "source": [
    "file_name = \"./서울특별시_공원 내 운동기구 설치 현황_20201231.csv\""
   ]
  },
  {
   "cell_type": "code",
   "execution_count": 5,
   "id": "c0c6382b-9e1b-4760-9a74-1d5ea18c1027",
   "metadata": {},
   "outputs": [
    {
     "data": {
      "text/html": [
       "<div>\n",
       "<style scoped>\n",
       "    .dataframe tbody tr th:only-of-type {\n",
       "        vertical-align: middle;\n",
       "    }\n",
       "\n",
       "    .dataframe tbody tr th {\n",
       "        vertical-align: top;\n",
       "    }\n",
       "\n",
       "    .dataframe thead th {\n",
       "        text-align: right;\n",
       "    }\n",
       "</style>\n",
       "<table border=\"1\" class=\"dataframe\">\n",
       "  <thead>\n",
       "    <tr style=\"text-align: right;\">\n",
       "      <th></th>\n",
       "      <th>구분</th>\n",
       "      <th>위치(구역명)</th>\n",
       "      <th>운동기구 기종명</th>\n",
       "      <th>운동기구 수량</th>\n",
       "      <th>관리번호</th>\n",
       "      <th>관리기관</th>\n",
       "    </tr>\n",
       "  </thead>\n",
       "  <tbody>\n",
       "    <tr>\n",
       "      <th>0</th>\n",
       "      <td>남산공원(회현)</td>\n",
       "      <td>안중근 기념관 옆</td>\n",
       "      <td>스텝사이클</td>\n",
       "      <td>1</td>\n",
       "      <td>남삼회현-1(안중근기념관옆)-1</td>\n",
       "      <td>중부공원녹지사업소</td>\n",
       "    </tr>\n",
       "    <tr>\n",
       "      <th>1</th>\n",
       "      <td>남산공원(회현)</td>\n",
       "      <td>안중근 기념관 옆</td>\n",
       "      <td>크로스 컨트리</td>\n",
       "      <td>1</td>\n",
       "      <td>남삼회현-1(안중근기념관옆)-2</td>\n",
       "      <td>중부공원녹지사업소</td>\n",
       "    </tr>\n",
       "    <tr>\n",
       "      <th>2</th>\n",
       "      <td>남산공원(회현)</td>\n",
       "      <td>안중근 기념관 옆</td>\n",
       "      <td>체어 웨이트</td>\n",
       "      <td>1</td>\n",
       "      <td>남삼회현-1(안중근기념관옆)-3</td>\n",
       "      <td>중부공원녹지사업소</td>\n",
       "    </tr>\n",
       "    <tr>\n",
       "      <th>3</th>\n",
       "      <td>남산공원(회현)</td>\n",
       "      <td>안중근 기념관 옆</td>\n",
       "      <td>롤링웨이스트</td>\n",
       "      <td>1</td>\n",
       "      <td>남삼회현-1(안중근기념관옆)-4</td>\n",
       "      <td>중부공원녹지사업소</td>\n",
       "    </tr>\n",
       "    <tr>\n",
       "      <th>4</th>\n",
       "      <td>남산공원(회현)</td>\n",
       "      <td>안중근 기념관 옆</td>\n",
       "      <td>폴웨이트</td>\n",
       "      <td>1</td>\n",
       "      <td>남삼회현-1(안중근기념관옆)-5</td>\n",
       "      <td>중부공원녹지사업소</td>\n",
       "    </tr>\n",
       "    <tr>\n",
       "      <th>...</th>\n",
       "      <td>...</td>\n",
       "      <td>...</td>\n",
       "      <td>...</td>\n",
       "      <td>...</td>\n",
       "      <td>...</td>\n",
       "      <td>...</td>\n",
       "    </tr>\n",
       "    <tr>\n",
       "      <th>1922</th>\n",
       "      <td>서울대공원</td>\n",
       "      <td>기린나라 앞</td>\n",
       "      <td>어깨근육풀기</td>\n",
       "      <td>1</td>\n",
       "      <td>서울대공원-2(기린나라)-2</td>\n",
       "      <td>서울대공원</td>\n",
       "    </tr>\n",
       "    <tr>\n",
       "      <th>1923</th>\n",
       "      <td>서울대공원</td>\n",
       "      <td>기린나라 앞</td>\n",
       "      <td>허리돌리기</td>\n",
       "      <td>1</td>\n",
       "      <td>서울대공원-2(기린나라)-3</td>\n",
       "      <td>서울대공원</td>\n",
       "    </tr>\n",
       "    <tr>\n",
       "      <th>1924</th>\n",
       "      <td>서울대공원</td>\n",
       "      <td>기린나라 앞</td>\n",
       "      <td>윗몸일으키기</td>\n",
       "      <td>1</td>\n",
       "      <td>서울대공원-2(기린나라)-4</td>\n",
       "      <td>서울대공원</td>\n",
       "    </tr>\n",
       "    <tr>\n",
       "      <th>1925</th>\n",
       "      <td>서울대공원</td>\n",
       "      <td>기린나라 앞</td>\n",
       "      <td>하이풀리운동기구</td>\n",
       "      <td>1</td>\n",
       "      <td>서울대공원-2(기린나라)-5</td>\n",
       "      <td>서울대공원</td>\n",
       "    </tr>\n",
       "    <tr>\n",
       "      <th>1926</th>\n",
       "      <td>서울대공원</td>\n",
       "      <td>기린나라 앞</td>\n",
       "      <td>등허리지압운동</td>\n",
       "      <td>1</td>\n",
       "      <td>서울대공원-2(기린나라)-6</td>\n",
       "      <td>서울대공원</td>\n",
       "    </tr>\n",
       "  </tbody>\n",
       "</table>\n",
       "<p>1927 rows × 6 columns</p>\n",
       "</div>"
      ],
      "text/plain": [
       "             구분      위치(구역명)    운동기구 기종명   운동기구 수량                  관리번호  \\\n",
       "0      남산공원(회현)    안중근 기념관 옆       스텝사이클          1   남삼회현-1(안중근기념관옆)-1    \n",
       "1      남산공원(회현)    안중근 기념관 옆     크로스 컨트리          1   남삼회현-1(안중근기념관옆)-2    \n",
       "2      남산공원(회현)    안중근 기념관 옆      체어 웨이트          1   남삼회현-1(안중근기념관옆)-3    \n",
       "3      남산공원(회현)    안중근 기념관 옆      롤링웨이스트          1   남삼회현-1(안중근기념관옆)-4    \n",
       "4      남산공원(회현)    안중근 기념관 옆        폴웨이트          1   남삼회현-1(안중근기념관옆)-5    \n",
       "...          ...          ...         ...       ...                  ...   \n",
       "1922      서울대공원       기린나라 앞      어깨근육풀기          1     서울대공원-2(기린나라)-2    \n",
       "1923      서울대공원       기린나라 앞       허리돌리기          1     서울대공원-2(기린나라)-3    \n",
       "1924      서울대공원       기린나라 앞      윗몸일으키기          1     서울대공원-2(기린나라)-4    \n",
       "1925      서울대공원       기린나라 앞    하이풀리운동기구          1     서울대공원-2(기린나라)-5    \n",
       "1926      서울대공원       기린나라 앞     등허리지압운동          1     서울대공원-2(기린나라)-6    \n",
       "\n",
       "            관리기관   \n",
       "0      중부공원녹지사업소   \n",
       "1      중부공원녹지사업소   \n",
       "2      중부공원녹지사업소   \n",
       "3      중부공원녹지사업소   \n",
       "4      중부공원녹지사업소   \n",
       "...           ...  \n",
       "1922       서울대공원   \n",
       "1923       서울대공원   \n",
       "1924       서울대공원   \n",
       "1925       서울대공원   \n",
       "1926       서울대공원   \n",
       "\n",
       "[1927 rows x 6 columns]"
      ]
     },
     "execution_count": 5,
     "metadata": {},
     "output_type": "execute_result"
    }
   ],
   "source": [
    "df = pd.read_csv(file_name,encoding=\"cp949\")\n",
    "df"
   ]
  },
  {
   "cell_type": "code",
   "execution_count": 6,
   "id": "073c7e67-0d91-4534-a388-789647163a4c",
   "metadata": {},
   "outputs": [
    {
     "data": {
      "text/plain": [
       "구분\n",
       "간데메공원            30\n",
       "경의선숲길공원          11\n",
       "구의야구공원            4\n",
       "낙산공원             46\n",
       "남산공원(장충)         23\n",
       "남산공원(팔각)         50\n",
       "남산공원(한남)         57\n",
       "남산공원(회현)         66\n",
       "보라매공원            94\n",
       "북서울꿈의숲          155\n",
       "서서울호수공원          66\n",
       "서울대공원            22\n",
       "서울숲공원            41\n",
       "시민의숲공원           30\n",
       "여의도공원            28\n",
       "용산공원             39\n",
       "월드컵공원            15\n",
       "율현공원             45\n",
       "응봉공원             60\n",
       "잠실종합운동장          14\n",
       "중랑캠핑숲 공원         30\n",
       "천호공원             41\n",
       "한강공원(강서지구)       32\n",
       "한강공원(광나루지구)      94\n",
       "한강공원(난지지구)       37\n",
       "한강공원(뚝섬지구)      232\n",
       "한강공원(망원지구)      117\n",
       "한강공원(반포지구)       89\n",
       "한강공원(양화지구)       36\n",
       "한강공원(여의도지구)      58\n",
       "한강공원(이촌지구)      197\n",
       "한강공원(잠실지구)       34\n",
       "한강공원(잠원지구)       80\n",
       "Name: 운동기구 수량, dtype: int64"
      ]
     },
     "execution_count": 6,
     "metadata": {},
     "output_type": "execute_result"
    }
   ],
   "source": [
    "#print(df.dtypes)\n",
    "df.columns = df.columns.str.strip()\n",
    "result = df.groupby(\"구분\")[\"운동기구 수량\"].sum()\n",
    "result\n",
    "\n",
    "\n",
    "#with open(\"./park_counting.txt\",\"w\",encoding=\"utf-8\") as file:\n",
    "    #file.write(\"공원 별 총 운동기구 설치수\\n\")\n",
    "    #file.write(result.to_string())"
   ]
  },
  {
   "cell_type": "code",
   "execution_count": 1,
   "id": "afc1a7ab-ce2e-4a4d-994d-4e1518434ee0",
   "metadata": {},
   "outputs": [
    {
     "ename": "NameError",
     "evalue": "name 'df' is not defined",
     "output_type": "error",
     "traceback": [
      "\u001b[1;31m---------------------------------------------------------------------------\u001b[0m",
      "\u001b[1;31mNameError\u001b[0m                                 Traceback (most recent call last)",
      "Cell \u001b[1;32mIn[1], line 1\u001b[0m\n\u001b[1;32m----> 1\u001b[0m df[\u001b[38;5;124m\"\u001b[39m\u001b[38;5;124m구분\u001b[39m\u001b[38;5;124m\"\u001b[39m] \u001b[38;5;241m=\u001b[39m df[\u001b[38;5;124m\"\u001b[39m\u001b[38;5;124m구분\u001b[39m\u001b[38;5;124m\"\u001b[39m]\u001b[38;5;241m.\u001b[39mstr\u001b[38;5;241m.\u001b[39mstrip()\n\u001b[0;32m      2\u001b[0m result \u001b[38;5;241m=\u001b[39m df[df[\u001b[38;5;124m\"\u001b[39m\u001b[38;5;124m구분\u001b[39m\u001b[38;5;124m\"\u001b[39m]\u001b[38;5;241m==\u001b[39m\u001b[38;5;124m\"\u001b[39m\u001b[38;5;124m시민의숲공원\u001b[39m\u001b[38;5;124m\"\u001b[39m]\n\u001b[0;32m      3\u001b[0m result\n",
      "\u001b[1;31mNameError\u001b[0m: name 'df' is not defined"
     ]
    }
   ],
   "source": [
    "df[\"구분\"] = df[\"구분\"].str.strip()\n",
    "result = df[df[\"구분\"]==\"시민의숲공원\"]\n",
    "result"
   ]
  },
  {
   "cell_type": "code",
   "execution_count": 8,
   "id": "8f759cf5-8059-4053-b451-2454709267d0",
   "metadata": {},
   "outputs": [
    {
     "data": {
      "text/plain": [
       "관리기관\n",
       "한강사업본부        1006\n",
       "중부공원녹지사업소      496\n",
       "동부공원녹지사업소      311\n",
       "서부공원녹지사업소      120\n",
       "서울대공원           22\n",
       "체육시설관리사업소       18\n",
       "Name: 운동기구 수량, dtype: int64"
      ]
     },
     "execution_count": 8,
     "metadata": {},
     "output_type": "execute_result"
    }
   ],
   "source": [
    "result = df.groupby('관리기관')['운동기구 수량'].sum()\n",
    "result.sort_values(ascending=False)"
   ]
  },
  {
   "cell_type": "code",
   "execution_count": 9,
   "id": "02b0c194-a035-4f01-acc3-176d81d68ef5",
   "metadata": {},
   "outputs": [
    {
     "data": {
      "text/html": [
       "<div>\n",
       "<style scoped>\n",
       "    .dataframe tbody tr th:only-of-type {\n",
       "        vertical-align: middle;\n",
       "    }\n",
       "\n",
       "    .dataframe tbody tr th {\n",
       "        vertical-align: top;\n",
       "    }\n",
       "\n",
       "    .dataframe thead th {\n",
       "        text-align: right;\n",
       "    }\n",
       "</style>\n",
       "<table border=\"1\" class=\"dataframe\">\n",
       "  <thead>\n",
       "    <tr style=\"text-align: right;\">\n",
       "      <th></th>\n",
       "      <th>구분</th>\n",
       "      <th>위치(구역명)</th>\n",
       "      <th>운동기구 기종명</th>\n",
       "      <th>운동기구 수량</th>\n",
       "      <th>관리번호</th>\n",
       "      <th>관리기관</th>\n",
       "    </tr>\n",
       "  </thead>\n",
       "  <tbody>\n",
       "  </tbody>\n",
       "</table>\n",
       "</div>"
      ],
      "text/plain": [
       "Empty DataFrame\n",
       "Columns: [구분, 위치(구역명), 운동기구 기종명, 운동기구 수량, 관리번호, 관리기관]\n",
       "Index: []"
      ]
     },
     "execution_count": 9,
     "metadata": {},
     "output_type": "execute_result"
    }
   ],
   "source": [
    "result = df[df[\"운동기구 기종명\"]==\"달리기\"]\n",
    "result"
   ]
  }
 ],
 "metadata": {
  "kernelspec": {
   "display_name": "jupyterlab",
   "language": "python",
   "name": "jupyterlab"
  },
  "language_info": {
   "codemirror_mode": {
    "name": "ipython",
    "version": 3
   },
   "file_extension": ".py",
   "mimetype": "text/x-python",
   "name": "python",
   "nbconvert_exporter": "python",
   "pygments_lexer": "ipython3",
   "version": "3.12.7"
  }
 },
 "nbformat": 4,
 "nbformat_minor": 5
}
