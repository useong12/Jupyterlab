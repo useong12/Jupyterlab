{
 "cells": [
  {
   "cell_type": "code",
   "execution_count": 49,
   "id": "f871bffd-8b0a-46bf-94d5-a3c362c262a6",
   "metadata": {},
   "outputs": [],
   "source": [
    "from bs4 import BeautifulSoup\n",
    "import requests\n",
    "import numpy as np\n",
    "\n",
    "html_url = \"https://www.koreabaseball.com/Record/TeamRank/TeamRankDaily.aspx\"\n",
    "res =  requests.get(html_url)\n",
    "soup = BeautifulSoup(res.text,\"html.parser\")"
   ]
  },
  {
   "cell_type": "code",
   "execution_count": 50,
   "id": "1ba149a4-ccce-4125-b524-be8143ed89a2",
   "metadata": {},
   "outputs": [],
   "source": [
    "rank = soup.select_one('#cphContents_cphContents_cphContents_udpRecord > table')\n",
    "rank = rank.text.split()"
   ]
  },
  {
   "cell_type": "code",
   "execution_count": 86,
   "id": "cb8d3223-ce6b-4d72-979d-bd3971181894",
   "metadata": {},
   "outputs": [],
   "source": [
    "\n",
    "arr = np.array(rank)\n",
    "arr = np.reshape(arr,(11,12))\n",
    "\n",
    "with open(\"2024kbo.txt\", \"w\", encoding=\"utf-8\", newline=\"\") as f:\n",
    "    f.write(\"======================================== 한국프로야구 성적표 ==========================================\\n\")\n",
    "        \n",
    "with open(\"2024kbo.txt\", \"a\", encoding=\"utf-8\", newline=\"\") as f:\n",
    "   for row in arr:\n",
    "        line = \"\\t\".join(row) \n",
    "        f.write(line + \"\\n\")"
   ]
  },
  {
   "cell_type": "code",
   "execution_count": 87,
   "id": "f0bd1761-9d4d-471b-a450-08059c445ecb",
   "metadata": {},
   "outputs": [
    {
     "name": "stdout",
     "output_type": "stream",
     "text": [
      "======================================== 한국프로야구 성적표 ==========================================\n",
      "순위\t팀명\t경기\t승\t패\t무\t승률\t게임차\t최근10경기\t연속\t홈\t방문\n",
      "1\tKIA\t144\t87\t55\t2\t0.613\t0\t5승0무5패\t2승\t42-1-30\t45-1-25\n",
      "2\t삼성\t144\t78\t64\t2\t0.549\t9\t3승0무7패\t1패\t41-0-32\t37-2-32\n",
      "3\tLG\t144\t76\t66\t2\t0.535\t11\t7승0무3패\t2승\t39-1-33\t37-1-33\n",
      "4\t두산\t144\t74\t68\t2\t0.521\t13\t8승0무2패\t4승\t39-1-31\t35-1-37\n",
      "5\tKT\t144\t72\t70\t2\t0.507\t15\t5승0무5패\t3승\t34-1-36\t38-1-34\n",
      "6\tSSG\t144\t72\t70\t2\t0.507\t15\t8승0무2패\t4승\t35-1-35\t37-1-35\n",
      "7\t롯데\t144\t66\t74\t4\t0.471\t20\t4승0무6패\t1승\t37-3-31\t29-1-43\n",
      "8\t한화\t144\t66\t76\t2\t0.465\t21\t5승0무5패\t2패\t30-2-39\t36-0-37\n",
      "9\tNC\t144\t61\t81\t2\t0.430\t26\t2승0무8패\t2패\t34-0-39\t27-2-42\n",
      "10\t키움\t144\t58\t86\t0\t0.403\t30\t1승0무9패\t5패\t32-0-41\t26-0-45\n",
      "\n"
     ]
    }
   ],
   "source": [
    "with open(\"2024kbo.txt\",\"r\",encoding=\"utf-8\") as f:\n",
    "    data = f.read()\n",
    "    print(data)"
   ]
  }
 ],
 "metadata": {
  "kernelspec": {
   "display_name": "jupyterlab",
   "language": "python",
   "name": "jupyterlab"
  },
  "language_info": {
   "codemirror_mode": {
    "name": "ipython",
    "version": 3
   },
   "file_extension": ".py",
   "mimetype": "text/x-python",
   "name": "python",
   "nbconvert_exporter": "python",
   "pygments_lexer": "ipython3",
   "version": "3.12.7"
  }
 },
 "nbformat": 4,
 "nbformat_minor": 5
}
