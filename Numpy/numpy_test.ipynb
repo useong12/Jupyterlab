{
 "cells": [
  {
   "cell_type": "code",
   "execution_count": 7,
   "id": "cf242cc6-14be-40fb-a934-58cac397aa47",
   "metadata": {},
   "outputs": [
    {
     "name": "stdout",
     "output_type": "stream",
     "text": [
      "[1 2 3 4 5]\n"
     ]
    }
   ],
   "source": [
    "import numpy as np\n",
    "\n",
    "a1 = np.array([1,2,3,4,5])\n",
    "print(a1) # numpy 배열은 ','가 없이 생성"
   ]
  },
  {
   "cell_type": "code",
   "execution_count": 10,
   "id": "cbe0dd14-5ccb-44bf-8590-5a5a8a96e223",
   "metadata": {},
   "outputs": [
    {
     "name": "stdout",
     "output_type": "stream",
     "text": [
      "[[1 2 3]\n",
      " [4 5 6]]\n"
     ]
    }
   ],
   "source": [
    "a2 = np.array([[1,2,3],[4,5,6]]) #2차원 배열\n",
    "print(a2)"
   ]
  },
  {
   "cell_type": "code",
   "execution_count": 13,
   "id": "b80d928c-be73-4d78-9ab0-662045ffd01b",
   "metadata": {},
   "outputs": [
    {
     "name": "stdout",
     "output_type": "stream",
     "text": [
      "[[[1 2]\n",
      "  [3 4]]\n",
      "\n",
      " [[5 6]\n",
      "  [7 8]]]\n"
     ]
    }
   ],
   "source": [
    "a3 = np.array([[[1,2],[3,4]],[[5,6],[7,8]]]) #3차원 배열\n",
    "print(a3)"
   ]
  },
  {
   "cell_type": "code",
   "execution_count": 20,
   "id": "686679d9-8369-4740-96ac-dc197be087a6",
   "metadata": {},
   "outputs": [
    {
     "name": "stdout",
     "output_type": "stream",
     "text": [
      "(2, 3)\n",
      "2\n",
      "int64\n",
      "8\n",
      "6\n"
     ]
    }
   ],
   "source": [
    "# 배열 메서드\n",
    "print(a2.shape)\n",
    "print(a2.ndim)\n",
    "print(a2.dtype)\n",
    "print(a2.itemsize)\n",
    "print(a2.size)"
   ]
  },
  {
   "cell_type": "code",
   "execution_count": 29,
   "id": "be9fb8d6-776e-46dc-b9be-ff210e53ef02",
   "metadata": {},
   "outputs": [
    {
     "name": "stdout",
     "output_type": "stream",
     "text": [
      "2\n",
      "[3 9]\n"
     ]
    }
   ],
   "source": [
    "arr = np.array([[1,2,3],[4,5,6],[7,8,9]]) #2차원 배열(3*3) 생성\n",
    "print(arr[0,1])\n",
    "rows = [0,2]\n",
    "cols = [2,2]\n",
    "print(arr[rows,cols])"
   ]
  },
  {
   "cell_type": "code",
   "execution_count": 34,
   "id": "496797f9-b185-44e7-8664-42b846816ede",
   "metadata": {},
   "outputs": [
    {
     "name": "stdout",
     "output_type": "stream",
     "text": [
      "[30 40 50]\n",
      "[20 40]\n",
      "[10 20  0  0  0]\n",
      "[20  0]\n"
     ]
    }
   ],
   "source": [
    "arr = np.array([10,20,30,40,50])\n",
    "print(arr[arr>20])\n",
    "print(arr[arr%20==0])\n",
    "arr[arr>20] = 0\n",
    "print(arr)\n",
    "lists = [1, 2]\n",
    "print(arr[lists])"
   ]
  },
  {
   "cell_type": "code",
   "execution_count": 43,
   "id": "cd548f89-6c74-4ae3-9d32-d440cccc72d5",
   "metadata": {},
   "outputs": [
    {
     "name": "stdout",
     "output_type": "stream",
     "text": [
      "[[0. 0. 0.]\n",
      " [0. 0. 0.]\n",
      " [0. 0. 0.]]\n",
      "[[1. 1. 1.]\n",
      " [1. 1. 1.]\n",
      " [1. 1. 1.]]\n",
      "[ 1  4  7 10 13 16 19]\n",
      "[0.         0.88888889 1.77777778 2.66666667 3.55555556 4.44444444\n",
      " 5.33333333 6.22222222 7.11111111 8.        ]\n"
     ]
    }
   ],
   "source": [
    "# 여러가지 형태의 배열 생성\n",
    "zero = np.zeros((3,3))\n",
    "print(zero)\n",
    "\n",
    "one = np.ones((3,3))\n",
    "print(one)\n",
    "\n",
    "arange = np.arange(1,20,3) #간격이 명확할 때 사용\n",
    "print(arange)\n",
    "\n",
    "linspace = np.linspace(0,8,10) #일정한 간격의 value가 필요한 때\n",
    "print(linspace)"
   ]
  },
  {
   "cell_type": "code",
   "execution_count": 48,
   "id": "02f002d7-f860-462f-ac0d-f5cfedb5159b",
   "metadata": {},
   "outputs": [
    {
     "name": "stdout",
     "output_type": "stream",
     "text": [
      "[[1 2 3]\n",
      " [4 5 6]\n",
      " [7 8 9]]\n",
      "[[1 2 3 4]\n",
      " [5 6 7 8]\n",
      " [9 1 2 3]\n",
      " [4 5 6 7]]\n"
     ]
    }
   ],
   "source": [
    "arr = np.array([1,2,3,4,5,6,7,8,9])\n",
    "\n",
    "reshaped = np.reshape(arr,(3,3))\n",
    "print(reshaped)\n",
    "\n",
    "resized = np.resize(arr,(4,4))\n",
    "print(resized)"
   ]
  },
  {
   "cell_type": "code",
   "execution_count": 66,
   "id": "bc616e16-efd9-42ac-9a41-3b49752e0b52",
   "metadata": {},
   "outputs": [
    {
     "name": "stdout",
     "output_type": "stream",
     "text": [
      "[5 7 9]\n",
      "[-3 -3 -3]\n",
      "[ 4 10 18]\n",
      "[0.25 0.4  0.5 ]\n",
      "[1. 2. 3. 4. 5. 6.]\n",
      "[2.71828183e+00 5.45981500e+01 8.10308393e+03 8.88611052e+06\n",
      " 7.20048993e+10 4.31123155e+15]\n",
      "[0.         1.38629436 2.19722458 2.77258872 3.21887582 3.58351894]\n"
     ]
    }
   ],
   "source": [
    "# np를 이용한 배열 사칙연산\n",
    "a = np.array([1,2,3])\n",
    "b = np.array([4,5,6])\n",
    "\n",
    "print(a+b)\n",
    "print(a-b)\n",
    "print(a*b)\n",
    "print(a/b)\n",
    "\n",
    "a2 = np.array([1,4,9,16,25,36])\n",
    "print(np.sqrt(a2))\n",
    "print(np.exp(a2))\n",
    "print(np.log(a2))"
   ]
  },
  {
   "cell_type": "code",
   "execution_count": 69,
   "id": "4765f0a3-66fc-4bb6-aea9-9755b6bc5aee",
   "metadata": {},
   "outputs": [
    {
     "name": "stdout",
     "output_type": "stream",
     "text": [
      "[0.         0.5        0.70710678 0.8660254  1.        ]\n",
      "[1.00000000e+00 8.66025404e-01 7.07106781e-01 5.00000000e-01\n",
      " 6.12323400e-17]\n"
     ]
    }
   ],
   "source": [
    "angles = np.array([0, np.pi/6,np.pi/4,np.pi/3,np.pi/2])\n",
    "print(np.sin(angles))\n",
    "print(np.cos(angles))"
   ]
  },
  {
   "cell_type": "code",
   "execution_count": 77,
   "id": "a4ca8390-9b0f-4f93-b680-303b88fe80a3",
   "metadata": {},
   "outputs": [
    {
     "name": "stdout",
     "output_type": "stream",
     "text": [
      "[1 2 3 4 5 6]\n",
      "[[1 2 3]\n",
      " [4 5 6]]\n",
      "[[1 4]\n",
      " [2 5]\n",
      " [3 6]]\n",
      "[array([[1],\n",
      "       [4]]), array([[2],\n",
      "       [5]]), array([[3],\n",
      "       [6]])]\n",
      "[array([[1, 2, 3]]), array([[4, 5, 6]])]\n"
     ]
    }
   ],
   "source": [
    "a = np.array([1,2,3])\n",
    "b = np.array([4,5,6])\n",
    "\n",
    "print(np.hstack((a,b)))\n",
    "print(np.vstack((a,b)))\n",
    "print(np.column_stack((a,b)))\n",
    "\n",
    "a = np.array([[1,2,3],[4,5,6]])\n",
    "print(np.hsplit(a,3))\n",
    "print(np.vsplit(a,2))"
   ]
  },
  {
   "cell_type": "code",
   "execution_count": 79,
   "id": "2735f22c-03e3-4023-a40f-851d655062bc",
   "metadata": {},
   "outputs": [
    {
     "name": "stdout",
     "output_type": "stream",
     "text": [
      "[11 12 13 14 15]\n",
      "[[11 22 33]\n",
      " [14 25 36]]\n"
     ]
    }
   ],
   "source": [
    "a = np.array([1,2,3,4,5])\n",
    "num = 10\n",
    "print(num + a)\n",
    "\n",
    "a = np.array([[1,2,3],[4,5,6]])\n",
    "b = np.array([10,20,30])\n",
    "\n",
    "print(a+b)"
   ]
  }
 ],
 "metadata": {
  "kernelspec": {
   "display_name": "jupyterlab",
   "language": "python",
   "name": "jupyterlab"
  },
  "language_info": {
   "codemirror_mode": {
    "name": "ipython",
    "version": 3
   },
   "file_extension": ".py",
   "mimetype": "text/x-python",
   "name": "python",
   "nbconvert_exporter": "python",
   "pygments_lexer": "ipython3",
   "version": "3.12.7"
  }
 },
 "nbformat": 4,
 "nbformat_minor": 5
}
