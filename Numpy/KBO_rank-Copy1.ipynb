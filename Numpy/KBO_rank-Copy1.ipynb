{
 "cells": [
  {
   "cell_type": "code",
   "execution_count": 12,
   "id": "f871bffd-8b0a-46bf-94d5-a3c362c262a6",
   "metadata": {},
   "outputs": [],
   "source": [
    "from bs4 import BeautifulSoup\n",
    "import requests\n",
    "import numpy as np\n",
    "\n",
    "html_url = \"https://www.koreabaseball.com/Record/TeamRank/TeamRankDaily.aspx\"\n",
    "res =  requests.get(html_url)\n",
    "soup = BeautifulSoup(res.text,\"html.parser\")"
   ]
  },
  {
   "cell_type": "code",
   "execution_count": 13,
   "id": "1ba149a4-ccce-4125-b524-be8143ed89a2",
   "metadata": {},
   "outputs": [],
   "source": [
    "rank = soup.select_one('#cphContents_cphContents_cphContents_udpRecord > table')\n",
    "rank = rank.text.split()"
   ]
  },
  {
   "cell_type": "code",
   "execution_count": 33,
   "id": "cb8d3223-ce6b-4d72-979d-bd3971181894",
   "metadata": {},
   "outputs": [],
   "source": [
    "\n",
    "arr = np.array(rank)\n",
    "arr = np.reshape(arr,(11,12))\n",
    "\n",
    "with open(\"2024kbo.txt\", \"w\", encoding=\"utf-8\", newline=\"\") as f:\n",
    "    f.write(\"============= 한국프로야구 성적표 ==============\\n\")\n",
    "        \n",
    "with open(\"2024kbo.txt\", \"a\", encoding=\"utf-8\", newline=\"\") as f:\n",
    "    for row in arr:\n",
    "        result = [row[0], row[1], row[3], row[4], row[5], row[6]]\n",
    "        line = \"\\t\".join(result)  \n",
    "        f.write(line + \"\\n\")"
   ]
  },
  {
   "cell_type": "code",
   "execution_count": 34,
   "id": "f0bd1761-9d4d-471b-a450-08059c445ecb",
   "metadata": {},
   "outputs": [
    {
     "name": "stdout",
     "output_type": "stream",
     "text": [
      "============= 한국프로야구 성적표 ==============\n",
      "순위\t팀명\t승\t패\t무\t승률\n",
      "1\tKIA\t87\t55\t2\t0.613\n",
      "2\t삼성\t78\t64\t2\t0.549\n",
      "3\tLG\t76\t66\t2\t0.535\n",
      "4\t두산\t74\t68\t2\t0.521\n",
      "5\tKT\t72\t70\t2\t0.507\n",
      "6\tSSG\t72\t70\t2\t0.507\n",
      "7\t롯데\t66\t74\t4\t0.471\n",
      "8\t한화\t66\t76\t2\t0.465\n",
      "9\tNC\t61\t81\t2\t0.430\n",
      "10\t키움\t58\t86\t0\t0.403\n",
      "\n"
     ]
    }
   ],
   "source": [
    "with open(\"2024kbo.txt\",\"r\",encoding=\"utf-8\") as f:\n",
    "    data = f.read()\n",
    "    print(data)"
   ]
  }
 ],
 "metadata": {
  "kernelspec": {
   "display_name": "jupyterlab",
   "language": "python",
   "name": "jupyterlab"
  },
  "language_info": {
   "codemirror_mode": {
    "name": "ipython",
    "version": 3
   },
   "file_extension": ".py",
   "mimetype": "text/x-python",
   "name": "python",
   "nbconvert_exporter": "python",
   "pygments_lexer": "ipython3",
   "version": "3.12.7"
  }
 },
 "nbformat": 4,
 "nbformat_minor": 5
}
